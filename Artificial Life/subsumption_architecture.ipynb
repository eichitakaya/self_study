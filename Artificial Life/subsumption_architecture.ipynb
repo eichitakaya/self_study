{
 "cells": [
  {
   "cell_type": "code",
   "execution_count": null,
   "metadata": {},
   "outputs": [],
   "source": [
    "%matplotlib inline"
   ]
  },
  {
   "cell_type": "code",
   "execution_count": 1,
   "metadata": {},
   "outputs": [
    {
     "name": "stderr",
     "output_type": "stream",
     "text": [
      "C:\\Users\\Eichi\\Anaconda3\\lib\\site-packages\\vispy\\visuals\\isocurve.py:22: UserWarning: VisPy is not yet compatible with matplotlib 2.2+\n",
      "  warnings.warn(\"VisPy is not yet compatible with matplotlib 2.2+\")\n"
     ]
    }
   ],
   "source": [
    "import sys, os\n",
    "sys.path.append(os.pardir)\n",
    "import numpy as np\n",
    "from alifebook_lib.simulators import VehicleSimulator"
   ]
  },
  {
   "cell_type": "code",
   "execution_count": 2,
   "metadata": {},
   "outputs": [
    {
     "name": "stdout",
     "output_type": "stream",
     "text": [
      "Loading chipmunk for Windows (64bit) [C:\\Users\\Eichi\\Anaconda3\\lib\\site-packages\\pymunk\\chipmunk.dll]\n"
     ]
    }
   ],
   "source": [
    "simulator = VehicleSimulator(obstacle_num=5)\n",
    "\n",
    "while simulator:\n",
    "    sensor_data = simulator.get_sensor_data()\n",
    "    left_wheel_speed = 20 + 20 * sensor_data[\"left_distance\"]\n",
    "    right_wheel_speed = 20 + 20 * sensor_data[\"right_distance\"]\n",
    "    action = [left_wheel_speed, right_wheel_speed]\n",
    "    simulator.update(action)"
   ]
  },
  {
   "cell_type": "code",
   "execution_count": null,
   "metadata": {},
   "outputs": [],
   "source": []
  }
 ],
 "metadata": {
  "kernelspec": {
   "display_name": "Python 3",
   "language": "python",
   "name": "python3"
  },
  "language_info": {
   "codemirror_mode": {
    "name": "ipython",
    "version": 3
   },
   "file_extension": ".py",
   "mimetype": "text/x-python",
   "name": "python",
   "nbconvert_exporter": "python",
   "pygments_lexer": "ipython3",
   "version": "3.7.0"
  }
 },
 "nbformat": 4,
 "nbformat_minor": 2
}
