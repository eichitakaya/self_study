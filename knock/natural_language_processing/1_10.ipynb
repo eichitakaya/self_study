{
 "cells": [
  {
   "cell_type": "code",
   "execution_count": 8,
   "metadata": {},
   "outputs": [
    {
     "name": "stdout",
     "output_type": "stream",
     "text": [
      "desserts\n"
     ]
    }
   ],
   "source": [
    "# 00\n",
    "s = \"stressed\"\n",
    "s_reverse = s[::-1]\n",
    "print(s_reverse)"
   ]
  },
  {
   "cell_type": "code",
   "execution_count": 9,
   "metadata": {},
   "outputs": [
    {
     "name": "stdout",
     "output_type": "stream",
     "text": [
      "パトカー\n"
     ]
    }
   ],
   "source": [
    "# 01\n",
    "s_in = \"パタトクカシーー\"\n",
    "\n",
    "s_out = \"\"\n",
    "for i, s in enumerate(s_in):\n",
    "    if (i + 1) % 2 != 0:\n",
    "        s_out += s\n",
    "        \n",
    "print(s_out)"
   ]
  },
  {
   "cell_type": "code",
   "execution_count": 10,
   "metadata": {},
   "outputs": [
    {
     "name": "stdout",
     "output_type": "stream",
     "text": [
      "パタトクカシーー\n"
     ]
    }
   ],
   "source": [
    "# 02\n",
    "s1 = \"パトカー\"\n",
    "s2 = \"タクシー\"\n",
    "\n",
    "s_out = \"\"\n",
    "for i in range(len(s1)):\n",
    "    s_out += (s1[i] + s2[i])\n",
    "print(s_out)"
   ]
  },
  {
   "cell_type": "code",
   "execution_count": 14,
   "metadata": {},
   "outputs": [
    {
     "name": "stdout",
     "output_type": "stream",
     "text": [
      "[3, 1, 4, 1, 5, 9, 2, 6, 5, 3, 5, 8, 9, 7, 9]\n"
     ]
    }
   ],
   "source": [
    "# 03\n",
    "s = \"Now I need a drink, alcoholic of course, after the heavy lectures involving quantum mechanics.\"\n",
    "num_list = []\n",
    "s_split = s.split()\n",
    "\n",
    "for i in s_split:\n",
    "    if \",\" in i:\n",
    "        i = i.replace(\",\", \"\")\n",
    "    elif \".\" in i:\n",
    "        i = i.replace(\".\", \"\")\n",
    "    num_list.append(len(i))\n",
    "\n",
    "print(num_list)"
   ]
  },
  {
   "cell_type": "code",
   "execution_count": 22,
   "metadata": {},
   "outputs": [
    {
     "name": "stdout",
     "output_type": "stream",
     "text": [
      "{'H': 1, 'He': 2, 'Li': 3, 'Be': 4, 'B': 5, 'C': 6, 'N': 7, 'O': 8, 'F': 9, 'Ne': 10, 'Na': 11, 'Mi': 12, 'Al': 13, 'Si': 14, 'P': 15, 'S': 16, 'Cl': 17, 'Ar': 18, 'K': 19, 'Ca': 20}\n"
     ]
    }
   ],
   "source": [
    "# 04\n",
    "s = \"Hi He Lied Because Boron Could Not Oxidize Fluorine. New Nations Might Also Sign Peace Security Clause. Arthur King Can.\"\n",
    "s = s.split()\n",
    "solos = [1, 5, 6, 7, 8, 9, 15, 16, 19]\n",
    "dic = {}\n",
    "\n",
    "for i, word in enumerate(s):\n",
    "    if (i+1) in solos:\n",
    "        dic[word[0]] = i+1\n",
    "    else:\n",
    "        dic[word[0:2]] = i+1\n",
    "print(dic)"
   ]
  },
  {
   "cell_type": "code",
   "execution_count": 48,
   "metadata": {},
   "outputs": [
    {
     "name": "stdout",
     "output_type": "stream",
     "text": [
      "['I ', ' a', 'am', 'm ', ' a', 'an', 'n ', ' N', 'NL', 'LP', 'Pe', 'er']\n"
     ]
    }
   ],
   "source": [
    "# 05\n",
    "def n_gram(s, n, word=False):\n",
    "    gram_list = []\n",
    "    if word == True:\n",
    "        s = s.split()\n",
    "        for i in range(len(s)-n+1):\n",
    "            gram = []\n",
    "            for j in range(n):\n",
    "                gram.append(s[i+j])\n",
    "            gram_list.append(gram)            \n",
    "    else:\n",
    "        for i in range(len(s)-n+1):\n",
    "            gram = \"\"\n",
    "            for j in range(n):\n",
    "                gram += s[i+j]\n",
    "            gram_list.append(gram)\n",
    "    return gram_list\n",
    "s = \"I am an NLPer\"\n",
    "print(n_gram(s, 2, word=False))"
   ]
  },
  {
   "cell_type": "code",
   "execution_count": 78,
   "metadata": {},
   "outputs": [
    {
     "name": "stdout",
     "output_type": "stream",
     "text": [
      "{'di', 'gr', 'ad', 'pa', 'ra', 'ap', 'ag', 'ph', 'se', 'is', 'ar'}\n",
      "{'di', 'se', 'ad', 'is'}\n",
      "{'pa', 'ra', 'ap', 'ar'}\n",
      "True\n",
      "False\n"
     ]
    }
   ],
   "source": [
    "# 06\n",
    "a = \"paraparaparadise\"\n",
    "b = \"paragraph\"\n",
    "X = n_gram(a, 2, word=False)\n",
    "Y = n_gram(b, 2, word=False)\n",
    "\n",
    "X = set(X)\n",
    "Y = set(Y)\n",
    "\n",
    "union = X | Y\n",
    "dif = X - Y\n",
    "intersection = X & Y\n",
    "\n",
    "print(union)\n",
    "print(dif)\n",
    "print(intersection)\n",
    "print(\"se\" in X)\n",
    "print(\"se\" in Y)"
   ]
  },
  {
   "cell_type": "code",
   "execution_count": 79,
   "metadata": {},
   "outputs": [
    {
     "name": "stdout",
     "output_type": "stream",
     "text": [
      "12時の気温は22.4\n"
     ]
    }
   ],
   "source": [
    "# 07\n",
    "def generate_sentence(x, y, z):\n",
    "    s = str(x) + \"時の\" + str(y) + \"は\" + str(z)\n",
    "    return s\n",
    "print(generate_sentence(12, \"気温\", 22.4))"
   ]
  },
  {
   "cell_type": "code",
   "execution_count": 67,
   "metadata": {},
   "outputs": [
    {
     "data": {
      "text/plain": [
       "{'ad', 'ag', 'ap', 'ar', 'di', 'gr', 'is', 'pa', 'ph', 'ra', 'se'}"
      ]
     },
     "execution_count": 67,
     "metadata": {},
     "output_type": "execute_result"
    }
   ],
   "source": [
    "union"
   ]
  },
  {
   "cell_type": "code",
   "execution_count": 68,
   "metadata": {},
   "outputs": [
    {
     "data": {
      "text/plain": [
       "{'ad', 'di', 'is', 'se'}"
      ]
     },
     "execution_count": 68,
     "metadata": {},
     "output_type": "execute_result"
    }
   ],
   "source": [
    "dif"
   ]
  },
  {
   "cell_type": "code",
   "execution_count": 71,
   "metadata": {},
   "outputs": [
    {
     "data": {
      "text/plain": [
       "{'ap', 'ar', 'pa', 'ra'}"
      ]
     },
     "execution_count": 71,
     "metadata": {},
     "output_type": "execute_result"
    }
   ],
   "source": [
    "intersection"
   ]
  },
  {
   "cell_type": "code",
   "execution_count": null,
   "metadata": {},
   "outputs": [],
   "source": []
  }
 ],
 "metadata": {
  "kernelspec": {
   "display_name": "Python 3",
   "language": "python",
   "name": "python3"
  },
  "language_info": {
   "codemirror_mode": {
    "name": "ipython",
    "version": 3
   },
   "file_extension": ".py",
   "mimetype": "text/x-python",
   "name": "python",
   "nbconvert_exporter": "python",
   "pygments_lexer": "ipython3",
   "version": "3.6.8"
  }
 },
 "nbformat": 4,
 "nbformat_minor": 4
}
