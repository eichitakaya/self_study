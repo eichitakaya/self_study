{
 "cells": [
  {
   "cell_type": "code",
   "execution_count": 9,
   "metadata": {},
   "outputs": [],
   "source": [
    "import cv2\n",
    "import numpy as np\n",
    "import matplotlib.pyplot as plt"
   ]
  },
  {
   "cell_type": "code",
   "execution_count": 111,
   "metadata": {},
   "outputs": [
    {
     "data": {
      "text/plain": [
       "True"
      ]
     },
     "execution_count": 111,
     "metadata": {},
     "output_type": "execute_result"
    }
   ],
   "source": [
    "# 1\n",
    "def BGR2RGB(img):\n",
    "    r = img[:, :, 2].copy()\n",
    "    g = img[:, :, 1].copy()\n",
    "    b = img[:, :, 0].copy()\n",
    "    img[:, :, 0] = r\n",
    "    img[:, :, 1] = g\n",
    "    img[:, :, 2] = b\n",
    "    return img\n",
    "\n",
    "def RGB2BGR(img):\n",
    "    b = img[:, :, 2].copy()\n",
    "    g = img[:, :, 1].copy()\n",
    "    r = img[:, :, 0].copy()\n",
    "    img[:, :, 0] = b\n",
    "    img[:, :, 1] = g\n",
    "    img[:, :, 2] = r\n",
    "    return img\n",
    "\n",
    "img = cv2.imread(\"kurihara.jpg\")\n",
    "cv2.imwrite(\"output.jpg\", BGR2RGB(img))\n",
    "img = cv2.imread(\"output.jpg\")\n",
    "cv2.imwrite(\"output2.jpg\", RGB2BGR(img))"
   ]
  },
  {
   "cell_type": "code",
   "execution_count": 51,
   "metadata": {},
   "outputs": [
    {
     "data": {
      "text/plain": [
       "True"
      ]
     },
     "execution_count": 51,
     "metadata": {},
     "output_type": "execute_result"
    }
   ],
   "source": [
    "# 2\n",
    "def gray(img):\n",
    "    R = img[:, :, 2]*0.2126\n",
    "    G = img[:, :, 1]*0.7152\n",
    "    B = img[:, :, 0]*0.0722\n",
    "    Y = R + G + B\n",
    "    return Y\n",
    "\n",
    "img = cv2.imread(\"imori.jpg\")\n",
    "cv2.imwrite(\"output.jpg\", gray(img))"
   ]
  },
  {
   "cell_type": "code",
   "execution_count": 106,
   "metadata": {},
   "outputs": [
    {
     "data": {
      "text/plain": [
       "True"
      ]
     },
     "execution_count": 106,
     "metadata": {},
     "output_type": "execute_result"
    }
   ],
   "source": [
    "# 3\n",
    "def binary(img):\n",
    "    gray_img = gray(img)\n",
    "    mask0 = gray_img < 128\n",
    "    mask1 = gray_img >= 128\n",
    "    gray_img[mask0] = 0\n",
    "    gray_img[mask1] = 255\n",
    "    return gray_img\n",
    "\n",
    "img = cv2.imread(\"kurihara.jpg\")\n",
    "cv2.imwrite(\"output.jpg\", binary(img))"
   ]
  },
  {
   "cell_type": "code",
   "execution_count": 109,
   "metadata": {},
   "outputs": [
    {
     "data": {
      "image/png": "[encoded data removed]",
      "text/plain": [
       "<Figure size 432x288 with 1 Axes>"
      ]
     },
     "metadata": {
      "needs_background": "light"
     },
     "output_type": "display_data"
    },
    {
     "name": "stderr",
     "output_type": "stream",
     "text": [
      "/opt/conda/lib/python3.6/site-packages/ipykernel_launcher.py:6: RuntimeWarning: Mean of empty slice.\n",
      "  \n"
     ]
    },
    {
     "name": "stdout",
     "output_type": "stream",
     "text": [
      "93\n"
     ]
    },
    {
     "name": "stderr",
     "output_type": "stream",
     "text": [
      "/opt/conda/lib/python3.6/site-packages/ipykernel_launcher.py:10: RuntimeWarning: Mean of empty slice.\n",
      "  # Remove the CWD from sys.path while we load stuff.\n"
     ]
    }
   ],
   "source": [
    "# 4\n",
    "def calc_values(gray_img, threshold):\n",
    "    sum_all = gray_img.sum()\n",
    "    pixels_all = gray_img.shape[0] * gray_img.shape[1]\n",
    "    mask0 = gray_img < threshold\n",
    "    M0 = gray_img[mask0].mean()\n",
    "    omega0 = len(gray_img[mask0])\n",
    "    \n",
    "    mask1 = gray_img >= threshold\n",
    "    M1 = gray_img[mask1].mean()\n",
    "    omega1 = len(gray_img[mask1])\n",
    "    return omega0, omega1, M0, M1\n",
    "\n",
    "def calc_sigma(gray_img, threshold):\n",
    "    omega0, omega1, M0, M1 = calc_values(gray_img, threshold)\n",
    "    if omega0 == 0 or omega1 == 0:\n",
    "        sigma = 0\n",
    "    else:\n",
    "        sigma = (omega0 * omega1) * ((M0 - M1)**2)\n",
    "    return sigma\n",
    "\n",
    "def calc_threshold(gray_img):\n",
    "    sigmas = []\n",
    "    for threshold in range(256):\n",
    "        sigmas.append(calc_sigma(gray_img, threshold))\n",
    "    sigmas = np.array(sigmas)\n",
    "    optimal_threshold = np.argmax(sigmas)\n",
    "    return optimal_threshold\n",
    "\n",
    "def otsu(img):\n",
    "    gray_img = gray(img)\n",
    "    optimal_threshold = calc_threshold(gray_img)\n",
    "    mask0 = gray_img < optimal_threshold\n",
    "    mask1 = gray_img >= optimal_threshold\n",
    "    gray_img[mask0] = 0\n",
    "    gray_img[mask1] = 255\n",
    "    print(optimal_threshold)\n",
    "    cv2.imwrite(\"otsu_result.jpg\", gray_img)\n",
    "\n",
    "img = cv2.imread(\"kurihara.jpg\")\n",
    "gray_ = gray(img)\n",
    "plt.hist(gray_.ravel(), bins=255, rwidth=0.8, range=(0, 255))\n",
    "plt.xlabel(\"value\")\n",
    "plt.ylabel(\"appearance\")\n",
    "plt.show()\n",
    "img = cv2.imread(\"kurihara.jpg\")\n",
    "otsu(img)"
   ]
  },
  {
   "cell_type": "code",
   "execution_count": 174,
   "metadata": {},
   "outputs": [],
   "source": [
    "# 5\n",
    "\n",
    "def RGB2HSV(img):\n",
    "    img = BGR2RGB(img)\n",
    "    img = img / 255\n",
    "    \n",
    "    R = img[:,:,0]\n",
    "    G = img[:,:,1]\n",
    "    B = img[:,:,2]\n",
    "    \n",
    "    MAX = img.max(axis=2)\n",
    "    MIN = img.min(axis=2)\n",
    "    MIN_arg = img.argmin(axis=2)\n",
    "    \n",
    "    mask_minmax = MAX==MIN\n",
    "    mask_minB = MIN_arg != 2\n",
    "    mask_minR = MIN_arg != 0\n",
    "    mask_minG = MIN_arg != 1\n",
    "    \n",
    "    img_minB = ((60*(G-R)) / (MAX-MIN)) + 60\n",
    "    img_minB = np.nan_to_num(img_minB)\n",
    "    img_minR = ((60*(B-G)) / (MAX-MIN)) + 180\n",
    "    img_minR = np.nan_to_num(img_minR)\n",
    "    img_minG = ((60*(R-B)) / (MAX-MIN)) + 300\n",
    "    img_minG = np.nan_to_num(img_minG)\n",
    "\n",
    "    \n",
    "    img[mask_minmax] = 0\n",
    "    img_minB[mask_minB] = 0\n",
    "    img_minR[mask_minR] = 0\n",
    "    img_minG[mask_minG] = 0\n",
    "    \n",
    "    H = img_minB + img_minR + img_minG + np.zeros((img.shape[0],img.shape[0]))\n",
    "    \n",
    "    V = MAX\n",
    "    \n",
    "    S = MAX - MIN\n",
    "    \n",
    "    return (H, S, V)\n",
    "\n",
    "def HSV2RGB(hsv):\n",
    "    H = hsv[0]\n",
    "    S = hsv[1]\n",
    "    V = hsv[2]\n",
    "    \n",
    "    C = S\n",
    "    HH = H / 60\n",
    "    \n",
    "    return rgb_img\n",
    "img = cv2.imread(\"kurihara.jpg\")\n",
    "hsv = RGB2HSV(img)"
   ]
  },
  {
   "cell_type": "code",
   "execution_count": 134,
   "metadata": {},
   "outputs": [],
   "source": [
    "img = cv2.imread(\"kurihara.jpg\")\n",
    "img = BGR2RGB(img)\n",
    "img = img / 255\n",
    "MAX = img.argmax(axis=2) \n",
    "MIN = img.min(axis=2)\n",
    "mask = MAX==MIN\n",
    "R = img[:,:,0]"
   ]
  },
  {
   "cell_type": "code",
   "execution_count": 178,
   "metadata": {},
   "outputs": [
    {
     "data": {
      "text/plain": [
       "array([[0.02745098, 0.02745098, 0.02745098, ..., 0.02745098, 0.02745098,\n",
       "        0.02745098],\n",
       "       [0.02745098, 0.02745098, 0.02745098, ..., 0.02745098, 0.02745098,\n",
       "        0.02745098],\n",
       "       [0.02745098, 0.02745098, 0.02745098, ..., 0.02745098, 0.02745098,\n",
       "        0.02745098],\n",
       "       ...,\n",
       "       [0.03137255, 0.01960784, 0.01960784, ..., 0.02745098, 0.02745098,\n",
       "        0.02745098],\n",
       "       [0.03137255, 0.01960784, 0.01960784, ..., 0.02745098, 0.02745098,\n",
       "        0.02745098],\n",
       "       [0.03137255, 0.01960784, 0.01960784, ..., 0.02745098, 0.02745098,\n",
       "        0.02745098]])"
      ]
     },
     "execution_count": 178,
     "metadata": {},
     "output_type": "execute_result"
    }
   ],
   "source": [
    "hsv[1]"
   ]
  },
  {
   "cell_type": "code",
   "execution_count": 102,
   "metadata": {},
   "outputs": [
    {
     "data": {
      "text/plain": [
       "128"
      ]
     },
     "execution_count": 102,
     "metadata": {},
     "output_type": "execute_result"
    }
   ],
   "source": [
    "mask = gray_ < 128\n",
    "m0 = gray_[mask].mean()\n",
    "len()"
   ]
  },
  {
   "cell_type": "code",
   "execution_count": 149,
   "metadata": {},
   "outputs": [
    {
     "data": {
      "text/plain": [
       "0"
      ]
     },
     "execution_count": 149,
     "metadata": {},
     "output_type": "execute_result"
    }
   ],
   "source": [
    "a = np.array([1,1,1])\n",
    "a.argmin()"
   ]
  },
  {
   "cell_type": "code",
   "execution_count": 47,
   "metadata": {},
   "outputs": [
    {
     "data": {
      "text/plain": [
       "array([[  0.    ,   0.    ,   0.    , ...,   0.    ,   0.    ,   0.    ],\n",
       "       [  0.    ,   0.    ,   0.    , ..., 140.4668, 136.9156,   0.    ],\n",
       "       [  0.    ,   0.    ,   0.    , ..., 157.4106, 178.1482,   0.    ],\n",
       "       ...,\n",
       "       [172.5104,   0.    ,   0.    , ...,   0.    ,   0.    ,   0.    ],\n",
       "       [197.013 ,   0.    ,   0.    , ...,   0.    ,   0.    ,   0.    ],\n",
       "       [153.8766, 129.0078,   0.    , ...,   0.    ,   0.    ,   0.    ]])"
      ]
     },
     "execution_count": 47,
     "metadata": {},
     "output_type": "execute_result"
    }
   ],
   "source": [
    "binary(img)"
   ]
  },
  {
   "cell_type": "code",
   "execution_count": 44,
   "metadata": {},
   "outputs": [],
   "source": [
    "mask = gray_img < 128"
   ]
  },
  {
   "cell_type": "code",
   "execution_count": 55,
   "metadata": {},
   "outputs": [],
   "source": [
    "gray_img[mask] = 0"
   ]
  },
  {
   "cell_type": "code",
   "execution_count": 56,
   "metadata": {},
   "outputs": [
    {
     "data": {
      "text/plain": [
       "True"
      ]
     },
     "execution_count": 56,
     "metadata": {},
     "output_type": "execute_result"
    }
   ],
   "source": [
    "cv2.imwrite(\"output.jpg\", gray_img)"
   ]
  },
  {
   "cell_type": "code",
   "execution_count": 57,
   "metadata": {},
   "outputs": [],
   "source": [
    "a = np.array([0,1,2])"
   ]
  },
  {
   "cell_type": "code",
   "execution_count": 58,
   "metadata": {},
   "outputs": [],
   "source": [
    "mask = a != 0"
   ]
  },
  {
   "cell_type": "code",
   "execution_count": 59,
   "metadata": {},
   "outputs": [],
   "source": [
    "a[mask] = 3"
   ]
  },
  {
   "cell_type": "code",
   "execution_count": 60,
   "metadata": {},
   "outputs": [
    {
     "data": {
      "text/plain": [
       "array([0, 3, 3])"
      ]
     },
     "execution_count": 60,
     "metadata": {},
     "output_type": "execute_result"
    }
   ],
   "source": [
    "a"
   ]
  },
  {
   "cell_type": "code",
   "execution_count": 62,
   "metadata": {},
   "outputs": [
    {
     "data": {
      "text/plain": [
       "2"
      ]
     },
     "execution_count": 62,
     "metadata": {},
     "output_type": "execute_result"
    }
   ],
   "source": [
    "mask.sum()"
   ]
  },
  {
   "cell_type": "code",
   "execution_count": null,
   "metadata": {},
   "outputs": [],
   "source": []
  }
 ],
 "metadata": {
  "kernelspec": {
   "display_name": "Python 3",
   "language": "python",
   "name": "python3"
  },
  "language_info": {
   "codemirror_mode": {
    "name": "ipython",
    "version": 3
   },
   "file_extension": ".py",
   "mimetype": "text/x-python",
   "name": "python",
   "nbconvert_exporter": "python",
   "pygments_lexer": "ipython3",
   "version": "3.6.8"
  }
 },
 "nbformat": 4,
 "nbformat_minor": 4
}
