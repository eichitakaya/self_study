{
 "cells": [
  {
   "cell_type": "code",
   "execution_count": 5,
   "metadata": {},
   "outputs": [],
   "source": [
    "import cv2\n",
    "import math\n",
    "import numpy as np\n",
    "import random\n",
    "\n",
    "%matplotlib inline\n",
    "\n",
    "class IfsAttractor:\n",
    "    def __init__(self, w, h, scale, offsetx=100, offsety=0, color=(255, 255, 255)):\n",
    "        self.WIDTH = w\n",
    "        self.HEIGHT = h\n",
    "        self.plot_scale = scale\n",
    "        self.offsetx = offsetx\n",
    "        self.offsety = offsety\n",
    "        self.color = color\n",
    "    \n",
    "    def make_image(self):\n",
    "        ip = np.zeros((self.N,), np.int32)\n",
    "        table = np.zeros((self.M,), np.int32)\n",
    "        p = np.zeros((self.N,), np.float32)\n",
    "        \n",
    "        s = 0\n",
    "        for i in range(0, self.N) :\n",
    "            p[i] = abs(self.a[i] * self.e[i] - self.b[i] * self.d[i])\n",
    "            s += p[i]\n",
    "            ip[i] = i\n",
    "\n",
    "        # ソート\n",
    "        for i in range(0, self.N - 1):\n",
    "            k = i\n",
    "            for j in range(i + 1, self.N):\n",
    "                if p[j] < p[k]:\n",
    "                    k = j\n",
    "\n",
    "            p[i], p[k] = p[k], p[i]\n",
    "            ip[i], ip[k] = ip[k], ip[i]\n",
    "\n",
    "        # 表作成\n",
    "        r = self.M\n",
    "        for i in range(0, self.N):\n",
    "            k = int(r * p[i] / s + 0.5)\n",
    "            s -= p[i]\n",
    "\n",
    "            r -= 1\n",
    "            table[r] = ip[i]\n",
    "            k -= 1\n",
    "            while k > 0:\n",
    "                r -= 1\n",
    "                table[r] = ip[i]\n",
    "                k -= 1\n",
    "\n",
    "        # 画像描画\n",
    "        image = np.full((self.HEIGHT, self.WIDTH, 3), (255,255,255),np.uint8)\n",
    "        x = y = 0\n",
    "        for i in range(0, 30000):\n",
    "            randv = random.randint(0, self.M-1)\n",
    "            j = table[randv]\n",
    "            t = self.a[j] * x + self.b[j] * y + self.c[j]\n",
    "            y = self.d[j] * x + self.e[j] * y + self.f[j]\n",
    "            t = np.sin(t)\n",
    "            y = np.sin(y)\n",
    "            x = t;\n",
    "            if 10 <= i:\n",
    "                dy = self.HEIGHT - int(self.plot_scale * y+self.offsety) - 1\n",
    "                dx = int(self.plot_scale * x + self.offsetx)\n",
    "                image[dy, dx] = self.color\n",
    "        return  image\n",
    "\n",
    "class Sierpinski(IfsAttractor):\n",
    "    def __init__(self):\n",
    "        super().__init__(400, 220, 190, 10, 10, (0,128,255))\n",
    "\n",
    "        # x範囲(0 ～ 1)\n",
    "        # y範囲(0 ～ 1)\n",
    "        self.a = [ 0.5 , 0.5 , 0.5  ]\n",
    "        self.b = [ 0   , 0   , 0    ]\n",
    "        self.c = [ 0   , 0.5   , 0    ]\n",
    "        self.d = [ 0 , 0 , 0  ]\n",
    "        self.e = [ 0.5   , 0.5   , 0.5  ]\n",
    "        self.f = [ 0   , 0   , 0.5  ]\n",
    "        self.N = len(self.a)\n",
    "        self.M = (25 * self.N)"
   ]
  },
  {
   "cell_type": "code",
   "execution_count": 6,
   "metadata": {},
   "outputs": [
    {
     "data": {
      "text/plain": [
       "True"
      ]
     },
     "execution_count": 6,
     "metadata": {},
     "output_type": "execute_result"
    }
   ],
   "source": [
    "sie = Sierpinski()\n",
    "sieimage = sie.make_image()\n",
    "cv2.imwrite(\"Sierpinski.jpg\", sieimage)"
   ]
  },
  {
   "cell_type": "code",
   "execution_count": null,
   "metadata": {},
   "outputs": [],
   "source": []
  }
 ],
 "metadata": {
  "kernelspec": {
   "display_name": "Python 3",
   "language": "python",
   "name": "python3"
  },
  "language_info": {
   "codemirror_mode": {
    "name": "ipython",
    "version": 3
   },
   "file_extension": ".py",
   "mimetype": "text/x-python",
   "name": "python",
   "nbconvert_exporter": "python",
   "pygments_lexer": "ipython3",
   "version": "3.7.5"
  }
 },
 "nbformat": 4,
 "nbformat_minor": 4
}
