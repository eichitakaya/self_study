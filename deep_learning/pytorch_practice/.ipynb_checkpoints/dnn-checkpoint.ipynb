{
 "cells": [
  {
   "cell_type": "markdown",
   "metadata": {},
   "source": [
    "## Pytorchの基本的な書き方"
   ]
  },
  {
   "cell_type": "code",
   "execution_count": 28,
   "metadata": {},
   "outputs": [],
   "source": [
    "import torch\n",
    "import torchvision\n",
    "import torch.nn as nn\n",
    "import torch.optim as optim\n",
    "import torch.nn.functional as F\n",
    "import torchvision.transforms as transforms\n",
    "%matplotlib inline\n",
    "import numpy as np\n",
    "import matplotlib.pyplot as plt"
   ]
  },
  {
   "cell_type": "code",
   "execution_count": 29,
   "metadata": {},
   "outputs": [
    {
     "name": "stdout",
     "output_type": "stream",
     "text": [
      "Files already downloaded and verified\n",
      "Files already downloaded and verified\n"
     ]
    }
   ],
   "source": [
    "# Loading data\n",
    "train_dataset = torchvision.datasets.CIFAR10(root=\"/deep_takaya/self_study/deep_learning/data\", train=True, transform=transforms.ToTensor(), download=True)\n",
    "test_dataset = torchvision.datasets.CIFAR10(root=\"/deep_takaya/self_study/deep_learning/data\", train=False, transform=transforms.ToTensor(), download=True)\n",
    "image, label = train_dataset[0]"
   ]
  },
  {
   "cell_type": "code",
   "execution_count": 30,
   "metadata": {},
   "outputs": [],
   "source": [
    "# Difinition of Dataloader\n",
    "train_loader = torch.utils.data.DataLoader(dataset=train_dataset, batch_size=64, shuffle=True, num_workers=2)\n",
    "test_loader = torch.utils.data.DataLoader(dataset=test_dataset, batch_size=64, shuffle=False, num_workers=2)"
   ]
  },
  {
   "cell_type": "code",
   "execution_count": 31,
   "metadata": {},
   "outputs": [],
   "source": [
    "# Difinition of Network\n",
    "num_classes = 10\n",
    "\n",
    "class MLPNet(nn.Module):\n",
    "    def __init__(self):\n",
    "        super(MLPNet, self).__init__()\n",
    "        self.fc1 = nn.Linear(32*32 * 3, 600)\n",
    "        self.fc2 = nn.Linear(600, 600)\n",
    "        self.fc3 = nn.Linear(600, num_classes)\n",
    "        self.dropout1 = nn.Dropout2d(0.2)\n",
    "        self.dropout2 = nn.Dropout2d(0.2)\n",
    "    \n",
    "    def forward(self, x):\n",
    "        x = F.relu(self.fc1(x))\n",
    "        x = self.dropout1(x)\n",
    "        x = F.relu(self.fc2(x))\n",
    "        x = self.dropout2(x)\n",
    "        return F.relu(self.fc3(x))\n",
    "\n",
    "if torch.cuda.is_available():\n",
    "    device = \"cuda\"\n",
    "else:\n",
    "    device = \"cpu\"\n",
    "\n",
    "net = MLPNet().to(device)"
   ]
  },
  {
   "cell_type": "code",
   "execution_count": 33,
   "metadata": {},
   "outputs": [],
   "source": [
    "# loss function and optimization function\n",
    "criterion = nn.CrossEntropyLoss()\n",
    "optimizer = optim.SGD(net.parameters(), lr=0.01, momentum=0.9, weight_decay=5e-4)"
   ]
  },
  {
   "cell_type": "code",
   "execution_count": 37,
   "metadata": {},
   "outputs": [
    {
     "name": "stdout",
     "output_type": "stream",
     "text": [
      "Epoch [1/50], Loss: 0.0305, valloss: 0.0276, val_acc: 0.3671\n",
      "Epoch [2/50], Loss: 0.0275, valloss: 0.0260, val_acc: 0.4127\n",
      "Epoch [3/50], Loss: 0.0264, valloss: 0.0251, val_acc: 0.4400\n",
      "Epoch [4/50], Loss: 0.0256, valloss: 0.0245, val_acc: 0.4460\n",
      "Epoch [5/50], Loss: 0.0251, valloss: 0.0241, val_acc: 0.4534\n",
      "Epoch [6/50], Loss: 0.0246, valloss: 0.0245, val_acc: 0.4362\n",
      "Epoch [7/50], Loss: 0.0244, valloss: 0.0238, val_acc: 0.4554\n",
      "Epoch [8/50], Loss: 0.0239, valloss: 0.0232, val_acc: 0.4712\n",
      "Epoch [9/50], Loss: 0.0235, valloss: 0.0229, val_acc: 0.4775\n",
      "Epoch [10/50], Loss: 0.0233, valloss: 0.0229, val_acc: 0.4766\n",
      "Epoch [11/50], Loss: 0.0231, valloss: 0.0235, val_acc: 0.4665\n",
      "Epoch [12/50], Loss: 0.0228, valloss: 0.0222, val_acc: 0.4960\n",
      "Epoch [13/50], Loss: 0.0225, valloss: 0.0221, val_acc: 0.4940\n",
      "Epoch [14/50], Loss: 0.0223, valloss: 0.0222, val_acc: 0.4914\n",
      "Epoch [15/50], Loss: 0.0222, valloss: 0.0219, val_acc: 0.5083\n",
      "Epoch [16/50], Loss: 0.0221, valloss: 0.0223, val_acc: 0.4896\n",
      "Epoch [17/50], Loss: 0.0218, valloss: 0.0218, val_acc: 0.5010\n",
      "Epoch [18/50], Loss: 0.0216, valloss: 0.0219, val_acc: 0.5004\n",
      "Epoch [19/50], Loss: 0.0216, valloss: 0.0215, val_acc: 0.5164\n",
      "Epoch [20/50], Loss: 0.0214, valloss: 0.0221, val_acc: 0.4870\n",
      "Epoch [21/50], Loss: 0.0212, valloss: 0.0219, val_acc: 0.5020\n",
      "Epoch [22/50], Loss: 0.0211, valloss: 0.0211, val_acc: 0.5181\n",
      "Epoch [23/50], Loss: 0.0209, valloss: 0.0215, val_acc: 0.5133\n",
      "Epoch [24/50], Loss: 0.0208, valloss: 0.0215, val_acc: 0.5097\n",
      "Epoch [25/50], Loss: 0.0208, valloss: 0.0215, val_acc: 0.5112\n",
      "Epoch [26/50], Loss: 0.0208, valloss: 0.0216, val_acc: 0.5099\n",
      "Epoch [27/50], Loss: 0.0205, valloss: 0.0210, val_acc: 0.5183\n",
      "Epoch [28/50], Loss: 0.0204, valloss: 0.0210, val_acc: 0.5217\n",
      "Epoch [29/50], Loss: 0.0203, valloss: 0.0215, val_acc: 0.5028\n",
      "Epoch [30/50], Loss: 0.0203, valloss: 0.0215, val_acc: 0.5106\n",
      "Epoch [31/50], Loss: 0.0202, valloss: 0.0211, val_acc: 0.5183\n",
      "Epoch [32/50], Loss: 0.0201, valloss: 0.0216, val_acc: 0.5107\n",
      "Epoch [33/50], Loss: 0.0200, valloss: 0.0212, val_acc: 0.5124\n",
      "Epoch [34/50], Loss: 0.0199, valloss: 0.0213, val_acc: 0.5168\n",
      "Epoch [35/50], Loss: 0.0198, valloss: 0.0206, val_acc: 0.5303\n",
      "Epoch [36/50], Loss: 0.0200, valloss: 0.0211, val_acc: 0.5180\n",
      "Epoch [37/50], Loss: 0.0199, valloss: 0.0208, val_acc: 0.5212\n",
      "Epoch [38/50], Loss: 0.0196, valloss: 0.0213, val_acc: 0.5139\n",
      "Epoch [39/50], Loss: 0.0198, valloss: 0.0209, val_acc: 0.5208\n",
      "Epoch [40/50], Loss: 0.0196, valloss: 0.0205, val_acc: 0.5353\n",
      "Epoch [41/50], Loss: 0.0194, valloss: 0.0207, val_acc: 0.5280\n",
      "Epoch [42/50], Loss: 0.0194, valloss: 0.0205, val_acc: 0.5331\n",
      "Epoch [43/50], Loss: 0.0194, valloss: 0.0213, val_acc: 0.5135\n",
      "Epoch [44/50], Loss: 0.0192, valloss: 0.0205, val_acc: 0.5347\n",
      "Epoch [45/50], Loss: 0.0192, valloss: 0.0206, val_acc: 0.5343\n",
      "Epoch [46/50], Loss: 0.0191, valloss: 0.0206, val_acc: 0.5294\n",
      "Epoch [47/50], Loss: 0.0192, valloss: 0.0204, val_acc: 0.5368\n",
      "Epoch [48/50], Loss: 0.0191, valloss: 0.0208, val_acc: 0.5231\n",
      "Epoch [49/50], Loss: 0.0191, valloss: 0.0210, val_acc: 0.5296\n",
      "Epoch [50/50], Loss: 0.0191, valloss: 0.0207, val_acc: 0.5287\n"
     ]
    }
   ],
   "source": [
    "# training\n",
    "num_epochs = 50\n",
    "\n",
    "train_loss_list = []\n",
    "train_acc_list = []\n",
    "val_loss_list = []\n",
    "val_acc_list = []\n",
    "\n",
    "for epoch in range(num_epochs):\n",
    "    train_loss = 0\n",
    "    train_acc = 0\n",
    "    val_loss = 0\n",
    "    val_acc = 0\n",
    "    \n",
    "    #train===========================\n",
    "    net.train()\n",
    "    \n",
    "    for i, (images, labels) in enumerate(train_loader):\n",
    "        images, labels = images.view(-1, 32*32*3).to(device), labels.to(device)\n",
    "        \n",
    "        optimizer.zero_grad()\n",
    "        \n",
    "        outputs = net(images)\n",
    "        \n",
    "        loss = criterion(outputs, labels)\n",
    "        \n",
    "        train_loss += loss.item()\n",
    "        train_acc += (outputs.max(1)[1] == labels).sum().item()\n",
    "        \n",
    "        loss.backward()\n",
    "        \n",
    "        optimizer.step()\n",
    "        \n",
    "    avg_train_loss = train_loss / len(train_loader.dataset)\n",
    "    avg_train_acc = train_acc / len(train_loader.dataset)\n",
    "    \n",
    "    #val===============================\n",
    "    net.eval()\n",
    "    \n",
    "    with torch.no_grad():\n",
    "        for images, labels in test_loader:\n",
    "            images, labels = images.view(-1, 32*32*3).to(device), labels.to(device)\n",
    "            outputs = net(images)\n",
    "            loss = criterion(outputs, labels)\n",
    "            val_loss += loss.item()\n",
    "            val_acc += (outputs.max(1)[1] == labels).sum().item()\n",
    "        avg_val_loss = val_loss / len(test_loader.dataset)\n",
    "        avg_val_acc = val_acc / len(test_loader.dataset)\n",
    "        \n",
    "        print(\"Epoch [{}/{}], Loss: {loss:.4f}, valloss: {val_loss:.4f}, val_acc: {val_acc:.4f}\".format(epoch+1, num_epochs, i+1, loss=avg_train_loss, val_loss=avg_val_loss, val_acc=avg_val_acc))\n",
    "        \n",
    "        train_loss_list.append(avg_train_loss)\n",
    "        train_acc_list.append(avg_train_acc)\n",
    "        val_loss_list.append(avg_val_loss)\n",
    "        val_acc_list.append(avg_val_acc)"
   ]
  },
  {
   "cell_type": "code",
   "execution_count": 38,
   "metadata": {},
   "outputs": [
    {
     "data": {
      "image/png": "[encoded data removed]",
      "text/plain": [
       "<Figure size 600x400 with 1 Axes>"
      ]
     },
     "metadata": {},
     "output_type": "display_data"
    },
    {
     "data": {
      "image/png": "[encoded data removed]",
      "text/plain": [
       "<Figure size 600x400 with 1 Axes>"
      ]
     },
     "metadata": {},
     "output_type": "display_data"
    }
   ],
   "source": [
    "# plot results\n",
    "plt.figure()\n",
    "plt.plot(range(num_epochs), train_loss_list, color=\"blue\", linestyle=\"-\", label=\"train_loss\")\n",
    "plt.plot(range(num_epochs), val_loss_list, color=\"green\", linestyle=\"--\", label=\"val_loss\")\n",
    "plt.legend()\n",
    "plt.xlabel(\"epoch\")\n",
    "plt.ylabel(\"loss\")\n",
    "plt.title(\"Trainig and validation loss\")\n",
    "plt.grid()\n",
    "\n",
    "plt.figure()\n",
    "plt.plot(range(num_epochs), train_acc_list, color=\"blue\", linestyle=\"-\", label=\"train_acc\")\n",
    "plt.plot(range(num_epochs), val_acc_list, color=\"green\", linestyle=\"--\", label=\"val_acc\")\n",
    "plt.legend()\n",
    "plt.xlabel(\"epoch\")\n",
    "plt.ylabel(\"acc\")\n",
    "plt.title(\"Training and validation accuracy\")\n",
    "plt.grid()"
   ]
  },
  {
   "cell_type": "code",
   "execution_count": 40,
   "metadata": {},
   "outputs": [],
   "source": [
    "# save and load trained network\n",
    "torch.save(net.state_dict(), \"net.ckpt\")\n",
    "\n",
    "net2 = MLPNet().to(device)\n",
    "net2.load_state_dict(torch.load(\"net.ckpt\"))"
   ]
  },
  {
   "cell_type": "code",
   "execution_count": 41,
   "metadata": {},
   "outputs": [
    {
     "name": "stdout",
     "output_type": "stream",
     "text": [
      "An_introduction_to_tensorflow  data\t\tnet.ckpt\t  rnn\n",
      "chainer\t\t\t       dl_from_scratch\tpytorch_practice\n",
      "chainer_practice\t       gan\t\tr_cnn\n"
     ]
    }
   ],
   "source": [
    "!ls"
   ]
  },
  {
   "cell_type": "code",
   "execution_count": null,
   "metadata": {},
   "outputs": [],
   "source": []
  }
 ],
 "metadata": {
  "kernelspec": {
   "display_name": "Python [anaconda3-4.1.1]",
   "language": "python",
   "name": "Python [anaconda3-4.1.1]"
  },
  "language_info": {
   "codemirror_mode": {
    "name": "ipython",
    "version": 3
   },
   "file_extension": ".py",
   "mimetype": "text/x-python",
   "name": "python",
   "nbconvert_exporter": "python",
   "pygments_lexer": "ipython3",
   "version": "3.5.5"
  }
 },
 "nbformat": 4,
 "nbformat_minor": 2
}
