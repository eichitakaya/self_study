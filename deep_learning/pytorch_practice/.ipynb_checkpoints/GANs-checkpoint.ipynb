{
 "cells": [
  {
   "cell_type": "code",
   "execution_count": 71,
   "metadata": {},
   "outputs": [],
   "source": [
    "import torch\n",
    "import torchvision\n",
    "import torch.nn as nn\n",
    "import torch.optim as optim\n",
    "import torch.nn.functional as F\n",
    "import torchvision.transforms as transforms\n",
    "from torchvision.utils import save_image\n",
    "%matplotlib inline\n",
    "import numpy as np\n",
    "import matplotlib.pyplot as plt\n",
    "\n",
    "# Loading data\n",
    "train_dataset = torchvision.datasets.MNIST(root=\"/deep_takaya/self_study/deep_learning/data\", train=True, transform=transforms.ToTensor(), download=True)\n",
    "test_dataset = torchvision.datasets.MNIST(root=\"/deep_takaya/self_study/deep_learning/data\", train=False, transform=transforms.ToTensor(), download=True)\n",
    "image, label = train_dataset[0]\n",
    "\n",
    "# Difinition of Dataloader\n",
    "train_loader = torch.utils.data.DataLoader(dataset=train_dataset, batch_size=50, shuffle=True, num_workers=2)\n",
    "test_loader = torch.utils.data.DataLoader(dataset=test_dataset, batch_size=50, shuffle=False, num_workers=2)"
   ]
  },
  {
   "cell_type": "code",
   "execution_count": 57,
   "metadata": {},
   "outputs": [],
   "source": [
    "# Difinition of Network\n",
    "# discriminatorとgeneratorは別々でクラスを作る\n",
    "class Generator(nn.Module):\n",
    "    def __init__(self):\n",
    "        super(Generator, self).__init__()\n",
    "        self.z_dims = 100\n",
    "        \n",
    "        self.fc1 = nn.Linear(self.z_dims, 256)\n",
    "        self.fc2 = nn.Linear(256, 512)\n",
    "        self.fc3 = nn.Linear(512, 1024)\n",
    "        self.fc4 = nn.Linear(1024, 784)\n",
    "        self.bn1 = nn.BatchNorm1d(256)\n",
    "        self.bn2 = nn.BatchNorm1d(512)\n",
    "        self.bn3 = nn.BatchNorm1d(1024)\n",
    "    \n",
    "    def forward(self, x):\n",
    "        x = F.leaky_relu(self.fc1(x), negative_slope=0.2)\n",
    "        x = self.bn1(x)\n",
    "        x = F.leaky_relu(self.fc2(x), negative_slope=0.2)\n",
    "        x = self.bn2(x)\n",
    "        x = F.leaky_relu(self.fc3(x), negative_slope=0.2)\n",
    "        x = self.bn3(x)\n",
    "        x = self.fc4(x)\n",
    "        return x\n",
    "\n",
    "\n",
    "class Discriminator(nn.Module):\n",
    "    def __init__(self):\n",
    "        super(Discriminator, self).__init__()\n",
    "        self.fc1 = nn.Linear(784, 512)\n",
    "        self.fc2 = nn.Linear(512, 256)\n",
    "        self.fc3 = nn.Linear(256, 1)\n",
    "        \n",
    "    def forward(self, x):\n",
    "        x = x.view(-1, 28 * 28)\n",
    "        x = F.leaky_relu(self.fc1(x), negative_slope=0.2)\n",
    "        x = F.leaky_relu(self.fc2(x), negative_slope=0.2)\n",
    "        x = self.fc3(x)\n",
    "        return x"
   ]
  },
  {
   "cell_type": "code",
   "execution_count": 58,
   "metadata": {},
   "outputs": [],
   "source": [
    "if torch.cuda.is_available():\n",
    "    device = \"cuda\"\n",
    "else:\n",
    "    device = \"cpu\"\n",
    "\n",
    "# setting networks\n",
    "gen = Generator().to(device)\n",
    "dis = Discriminator().to(device)\n",
    "\n",
    "# setting optimizers\n",
    "o_gen = optim.Adam(gen.parameters(), lr=0.0002, betas=(0.5, 0.999), weight_decay=0.00001)\n",
    "o_dis = optim.Adam(dis.parameters(), lr=0.0002, betas=(0.5, 0.999), weight_decay=0.00001)\n",
    "\n",
    "# setting loss function\n",
    "criterion = nn.MSELoss()"
   ]
  },
  {
   "cell_type": "code",
   "execution_count": null,
   "metadata": {},
   "outputs": [
    {
     "name": "stdout",
     "output_type": "stream",
     "text": [
      "epoch1\n",
      "G_loss:tensor(0.9638, device='cuda:0')\n",
      "D_loss:tensor(0.1504, device='cuda:0')\n",
      "epoch2\n",
      "G_loss:tensor(0.9801, device='cuda:0')\n",
      "D_loss:tensor(0.1444, device='cuda:0')\n",
      "epoch3\n",
      "G_loss:tensor(0.9799, device='cuda:0')\n",
      "D_loss:tensor(0.1434, device='cuda:0')\n",
      "epoch4\n",
      "G_loss:tensor(0.9889, device='cuda:0')\n",
      "D_loss:tensor(0.1377, device='cuda:0')\n",
      "epoch5\n",
      "G_loss:tensor(1.0002, device='cuda:0')\n",
      "D_loss:tensor(0.1324, device='cuda:0')\n",
      "epoch6\n",
      "G_loss:tensor(1.0075, device='cuda:0')\n",
      "D_loss:tensor(0.1245, device='cuda:0')\n",
      "epoch7\n",
      "G_loss:tensor(1.0117, device='cuda:0')\n",
      "D_loss:tensor(0.1180, device='cuda:0')\n"
     ]
    }
   ],
   "source": [
    "# training\n",
    "num_epochs = 20\n",
    "batch_size = 100\n",
    "save_interval = 50\n",
    "\n",
    "half_batch = int(batch_size / 2)\n",
    "\n",
    "train_loss_list = []\n",
    "train_acc_list = []\n",
    "val_loss_list = []\n",
    "val_acc_list = []\n",
    "\n",
    "# labels\n",
    "y_real = torch.ones(half_batch, 1)\n",
    "y_fake = torch.zeros(half_batch, 1)\n",
    "y_real = y_real.to(device)\n",
    "y_fake = y_fake.to(device)\n",
    "\n",
    "for epoch in range(num_epochs):\n",
    "    train_loss = 0\n",
    "    train_acc = 0\n",
    "    val_loss = 0\n",
    "    val_acc = 0\n",
    "    \n",
    "    D_running_loss = 0\n",
    "    G_running_loss = 0\n",
    "    \n",
    "    \n",
    "    #train discriminator\n",
    "    gen.train()\n",
    "    dis.train()\n",
    "    \n",
    "    for i, (images, labels) in enumerate(train_loader):\n",
    "        # Don't be adapted view()\n",
    "        real_images, labels = images.to(device), labels.to(device)\n",
    "        z = torch.randn(half_batch, 100)\n",
    "        z = z.to(device)\n",
    "        \n",
    "        o_gen.zero_grad()\n",
    "        \n",
    "        # train generator\n",
    "        fake_images = gen(z)\n",
    "        D_fake = dis(fake_images)\n",
    "        G_loss = criterion(D_fake, y_real)\n",
    "        G_loss.backward()\n",
    "        o_gen.step()\n",
    "        G_running_loss += G_loss.data\n",
    "        #print(\"G_loss:\" + str(G_loss.data))\n",
    "        \n",
    "        o_dis.zero_grad()\n",
    "        \n",
    "        # train discriminator\n",
    "        D_real = dis(real_images)\n",
    "        D_real_loss = criterion(D_real, y_real)\n",
    "        \n",
    "        fake_images = gen(z)\n",
    "        D_fake = dis(fake_images.detach())\n",
    "        D_fake_loss = criterion(D_fake, y_fake)\n",
    "        \n",
    "        D_loss = D_real_loss + D_fake_loss\n",
    "        D_loss.backward()\n",
    "        o_dis.step()\n",
    "        D_running_loss += D_loss.data\n",
    "        #print(\"D_loss:\" + str(D_loss.data))\n",
    "        \n",
    "        \n",
    "    # eval generator\n",
    "    gen.eval()\n",
    "        \n",
    "    sample_z = torch.rand((64, 100))\n",
    "    sample_z = sample_z.to(device)\n",
    "    samples = gen(sample_z).data.cpu()\n",
    "    samples = samples.view(-1, 28)\n",
    "    save_image(samples, \"gan_result\" + str(epoch+1) + \".png\")\n",
    "        \n",
    "    G_running_loss /= len(train_loader)\n",
    "    D_running_loss /= len(train_loader)\n",
    "    print(\"epoch\" + str(epoch+1))\n",
    "    print(\"G_loss:\" + str(G_running_loss))\n",
    "    print(\"D_loss:\" + str(D_running_loss))"
   ]
  },
  {
   "cell_type": "code",
   "execution_count": 79,
   "metadata": {},
   "outputs": [],
   "source": [
    "save_image(fake_images[0].view(-1, 28), \"gan_result.png\")"
   ]
  },
  {
   "cell_type": "code",
   "execution_count": 78,
   "metadata": {},
   "outputs": [
    {
     "data": {
      "text/plain": [
       "torch.Size([28, 28])"
      ]
     },
     "execution_count": 78,
     "metadata": {},
     "output_type": "execute_result"
    }
   ],
   "source": [
    "fake_images[0].view(-1, 28).shape"
   ]
  },
  {
   "cell_type": "code",
   "execution_count": 21,
   "metadata": {},
   "outputs": [],
   "source": [
    "z = torch.randn(64, 100)"
   ]
  },
  {
   "cell_type": "code",
   "execution_count": 23,
   "metadata": {},
   "outputs": [
    {
     "data": {
      "text/plain": [
       "torch.Size([64, 100])"
      ]
     },
     "execution_count": 23,
     "metadata": {},
     "output_type": "execute_result"
    }
   ],
   "source": [
    "z.shape"
   ]
  },
  {
   "cell_type": "code",
   "execution_count": null,
   "metadata": {},
   "outputs": [],
   "source": []
  }
 ],
 "metadata": {
  "kernelspec": {
   "display_name": "Python [anaconda3-4.1.1]",
   "language": "python",
   "name": "Python [anaconda3-4.1.1]"
  },
  "language_info": {
   "codemirror_mode": {
    "name": "ipython",
    "version": 3
   },
   "file_extension": ".py",
   "mimetype": "text/x-python",
   "name": "python",
   "nbconvert_exporter": "python",
   "pygments_lexer": "ipython3",
   "version": "3.5.5"
  }
 },
 "nbformat": 4,
 "nbformat_minor": 2
}
