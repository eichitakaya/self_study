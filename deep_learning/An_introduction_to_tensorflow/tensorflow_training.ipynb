{
 "cells": [
  {
   "cell_type": "code",
   "execution_count": 1,
   "metadata": {
    "collapsed": false
   },
   "outputs": [],
   "source": [
    "import tensorflow as tf"
   ]
  },
  {
   "cell_type": "code",
   "execution_count": 2,
   "metadata": {
    "collapsed": false
   },
   "outputs": [
    {
     "name": "stdout",
     "output_type": "stream",
     "text": [
      "9\n",
      "18\n",
      "27\n"
     ]
    }
   ],
   "source": [
    "# hello tensorflow\n",
    "a = tf.constant(3, name=\"const1\") # 定数a\n",
    "b = tf.Variable(0, name=\"val1\") # 変数b\n",
    "add = tf.add(a, b) # aとbの加算\n",
    "\n",
    "# 変数bに加算結果をアサイン（割り当て）\n",
    "assign = tf.assign(b, add)\n",
    "c = tf.placeholder(tf.int32, name=\"input\") # 入力c\n",
    "\n",
    "# アサイン結果とcを乗算\n",
    "mul = tf.multiply(assign, c)\n",
    "\n",
    "# 変数の初期化\n",
    "init = tf.global_variables_initializer()\n",
    "\n",
    "with tf.Session() as sess:\n",
    "    # 初期化を実行\n",
    "    sess.run(init)\n",
    "    for i in range(3):\n",
    "        # 乗算を行うまでのループを実行\n",
    "        print(sess.run(mul, feed_dict={c:3}))"
   ]
  },
  {
   "cell_type": "code",
   "execution_count": 3,
   "metadata": {
    "collapsed": false
   },
   "outputs": [
    {
     "name": "stdout",
     "output_type": "stream",
     "text": [
      "3\n",
      "3\n",
      "3\n"
     ]
    }
   ],
   "source": [
    "with tf.Session() as sess:\n",
    "    sess.run(init)\n",
    "    for i in range(3):\n",
    "        print(sess.run(add))"
   ]
  },
  {
   "cell_type": "code",
   "execution_count": 4,
   "metadata": {
    "collapsed": false
   },
   "outputs": [
    {
     "name": "stdout",
     "output_type": "stream",
     "text": [
      "Extracting data/train-images-idx3-ubyte.gz\n",
      "Extracting data/train-labels-idx1-ubyte.gz\n",
      "Extracting data/t10k-images-idx3-ubyte.gz\n",
      "Extracting data/t10k-labels-idx1-ubyte.gz\n"
     ]
    }
   ],
   "source": [
    "# mnistのダウンロード\n",
    "from tensorflow.examples.tutorials.mnist import input_data\n",
    "\n",
    "# データを格納したオブジェクトを呼び出す\n",
    "mnist = input_data.read_data_sets(\"data/\", one_hot=True)"
   ]
  },
  {
   "cell_type": "code",
   "execution_count": 5,
   "metadata": {
    "collapsed": true
   },
   "outputs": [],
   "source": [
    "# 訓練用の入力データ，正解データをミニバッチ数を指定して取得\n",
    "train_images, train_labels = mnist.train.next_batch(50)\n",
    "\n",
    "# テスト用の全画像データを取得\n",
    "test_images = mnist.test.images\n",
    "# テスト用の全正解データを取得\n",
    "test_labels = mnist.test.labels"
   ]
  },
  {
   "cell_type": "code",
   "execution_count": 6,
   "metadata": {
    "collapsed": false
   },
   "outputs": [
    {
     "data": {
      "text/plain": [
       "(10000, 784)"
      ]
     },
     "execution_count": 6,
     "metadata": {},
     "output_type": "execute_result"
    }
   ],
   "source": [
    "test_images.shape"
   ]
  },
  {
   "cell_type": "code",
   "execution_count": 7,
   "metadata": {
    "collapsed": true
   },
   "outputs": [],
   "source": [
    "# モデルの定義\n",
    "\n",
    "# 入力データを定義\n",
    "x = tf.placeholder(tf.float32, [None, 784])\n",
    "\n",
    "# 入力画像をログに出力\n",
    "img = tf.reshape(x, [-1, 28, 28, 1])\n",
    "tf.summary.image(\"input_data\", img, 10)\n",
    " \n",
    "# 入力層から中間層\n",
    "with tf.name_scope(\"hidden\"):\n",
    "    w_1 = tf.Variable(tf.truncated_normal([784, 64], stddev=0.1), name=\"w1\")\n",
    "    b_1 = tf.Variable(tf.zeros([64]), name=\"b1\")\n",
    "    h_1 = tf.nn.relu(tf.matmul(x, w_1) + b_1)\n",
    "    # 中間層の重みの分布をログ出力\n",
    "    tf.summary.histogram(\"w_1\", w_1)\n",
    "\n",
    "# 中間層から出力層\n",
    "with tf.name_scope(\"output\"):\n",
    "    w_2 = tf.Variable(tf.truncated_normal([64, 10], stddev=0.1), name=\"w2\")\n",
    "    b_2 = tf.Variable(tf.zeros([10]), name=\"b2\")\n",
    "    out = tf.nn.softmax(tf.matmul(h_1, w_2) + b_2)\n",
    "\n",
    "y = tf.placeholder(tf.float32, [None, 10])\n",
    "\n",
    "# 誤差関数\n",
    "with tf.name_scope(\"loss\"):\n",
    "    loss = tf.reduce_mean(tf.square(y - out))\n",
    "    # 誤差をログ出力\n",
    "    tf.summary.scalar(\"loss\", loss)"
   ]
  },
  {
   "cell_type": "code",
   "execution_count": 8,
   "metadata": {
    "collapsed": false
   },
   "outputs": [],
   "source": [
    "# 訓練（分散処理だと別の書き方をするらしい...）\n",
    "with tf.name_scope(\"train\"):\n",
    "    train_step = tf.train.GradientDescentOptimizer(0.5).minimize(loss)\n",
    "\n",
    "# 評価\n",
    "with tf.name_scope(\"accuracy\"):\n",
    "    correct = tf.equal(tf.argmax(out, 1), tf.argmax(y, 1))\n",
    "    accuracy = tf.reduce_mean(tf.cast(correct, tf.float32))\n",
    "    # 精度をログ出力\n",
    "    tf.summary.scalar(\"accuracy\", accuracy)\n",
    "\n",
    "# 一部のログをマージ\n",
    "#merge = tf.summary.merge([a, b, c])\n",
    "\n",
    "# 全てのログをマージ\n",
    "summary_op = tf.summary.merge_all()\n",
    "\n",
    "# 初期化\n",
    "init = tf.global_variables_initializer()"
   ]
  },
  {
   "cell_type": "code",
   "execution_count": 9,
   "metadata": {
    "collapsed": false
   },
   "outputs": [
    {
     "name": "stdout",
     "output_type": "stream",
     "text": [
      "step 10: accuracy = 0.08\n",
      "step 20: accuracy = 0.10\n",
      "step 30: accuracy = 0.12\n",
      "step 40: accuracy = 0.13\n",
      "step 50: accuracy = 0.16\n",
      "step 60: accuracy = 0.21\n",
      "step 70: accuracy = 0.26\n",
      "step 80: accuracy = 0.31\n",
      "step 90: accuracy = 0.34\n",
      "step 100: accuracy = 0.38\n",
      "step 110: accuracy = 0.41\n",
      "step 120: accuracy = 0.41\n",
      "step 130: accuracy = 0.42\n",
      "step 140: accuracy = 0.45\n",
      "step 150: accuracy = 0.46\n",
      "step 160: accuracy = 0.48\n",
      "step 170: accuracy = 0.49\n",
      "step 180: accuracy = 0.50\n",
      "step 190: accuracy = 0.52\n",
      "step 200: accuracy = 0.52\n",
      "step 210: accuracy = 0.54\n",
      "step 220: accuracy = 0.56\n",
      "step 230: accuracy = 0.56\n",
      "step 240: accuracy = 0.58\n",
      "step 250: accuracy = 0.59\n",
      "step 260: accuracy = 0.61\n",
      "step 270: accuracy = 0.63\n",
      "step 280: accuracy = 0.66\n",
      "step 290: accuracy = 0.70\n",
      "step 300: accuracy = 0.71\n",
      "step 310: accuracy = 0.73\n",
      "step 320: accuracy = 0.75\n",
      "step 330: accuracy = 0.75\n",
      "step 340: accuracy = 0.78\n",
      "step 350: accuracy = 0.78\n",
      "step 360: accuracy = 0.79\n",
      "step 370: accuracy = 0.81\n",
      "step 380: accuracy = 0.81\n",
      "step 390: accuracy = 0.81\n",
      "step 400: accuracy = 0.81\n",
      "step 410: accuracy = 0.82\n",
      "step 420: accuracy = 0.82\n",
      "step 430: accuracy = 0.83\n",
      "step 440: accuracy = 0.83\n",
      "step 450: accuracy = 0.84\n",
      "step 460: accuracy = 0.83\n",
      "step 470: accuracy = 0.84\n",
      "step 480: accuracy = 0.84\n",
      "step 490: accuracy = 0.85\n",
      "step 500: accuracy = 0.85\n",
      "step 510: accuracy = 0.85\n",
      "step 520: accuracy = 0.85\n",
      "step 530: accuracy = 0.85\n",
      "step 540: accuracy = 0.84\n",
      "step 550: accuracy = 0.85\n",
      "step 560: accuracy = 0.86\n",
      "step 570: accuracy = 0.86\n",
      "step 580: accuracy = 0.86\n",
      "step 590: accuracy = 0.86\n",
      "step 600: accuracy = 0.86\n",
      "step 610: accuracy = 0.86\n",
      "step 620: accuracy = 0.86\n",
      "step 630: accuracy = 0.87\n",
      "step 640: accuracy = 0.87\n",
      "step 650: accuracy = 0.87\n",
      "step 660: accuracy = 0.87\n",
      "step 670: accuracy = 0.87\n",
      "step 680: accuracy = 0.87\n",
      "step 690: accuracy = 0.87\n",
      "step 700: accuracy = 0.87\n",
      "step 710: accuracy = 0.87\n",
      "step 720: accuracy = 0.87\n",
      "step 730: accuracy = 0.88\n",
      "step 740: accuracy = 0.87\n",
      "step 750: accuracy = 0.88\n",
      "step 760: accuracy = 0.88\n",
      "step 770: accuracy = 0.88\n",
      "step 780: accuracy = 0.88\n",
      "step 790: accuracy = 0.88\n",
      "step 800: accuracy = 0.88\n",
      "step 810: accuracy = 0.88\n",
      "step 820: accuracy = 0.88\n",
      "step 830: accuracy = 0.88\n",
      "step 840: accuracy = 0.88\n",
      "step 850: accuracy = 0.88\n",
      "step 860: accuracy = 0.88\n",
      "step 870: accuracy = 0.88\n",
      "step 880: accuracy = 0.88\n",
      "step 890: accuracy = 0.88\n",
      "step 900: accuracy = 0.88\n",
      "step 910: accuracy = 0.88\n",
      "step 920: accuracy = 0.89\n",
      "step 930: accuracy = 0.88\n",
      "step 940: accuracy = 0.89\n",
      "step 950: accuracy = 0.89\n",
      "step 960: accuracy = 0.88\n",
      "step 970: accuracy = 0.88\n",
      "step 980: accuracy = 0.89\n",
      "step 990: accuracy = 0.89\n",
      "step 1000: accuracy = 0.89\n"
     ]
    }
   ],
   "source": [
    "with tf.Session() as sess:\n",
    "    sess.run(init)\n",
    "    \n",
    "    summary_writer = tf.summary.FileWriter(\"logs\", sess.graph)\n",
    "    \n",
    "    # テストデータをロード\n",
    "    test_images = mnist.test.images\n",
    "    test_labels = mnist.test.labels\n",
    "\n",
    "    for i in range(1000):\n",
    "        step = i + 1\n",
    "        train_images, train_labels = mnist.train.next_batch(50)\n",
    "        sess.run(train_step, feed_dict={x:train_images, y:train_labels})\n",
    "    \n",
    "        if step % 10 == 0:\n",
    "            summary_str = sess.run(summary_op, feed_dict={x:test_images, y:test_labels})\n",
    "            summary_writer.add_summary(summary_str, step)\n",
    "            acc_val = sess.run(accuracy, feed_dict={x:test_images, y:test_labels})\n",
    "            print(\"step %d: accuracy = %.2f\" % (step, acc_val))"
   ]
  },
  {
   "cell_type": "code",
   "execution_count": null,
   "metadata": {
    "collapsed": false
   },
   "outputs": [],
   "source": [
    "!tensorboard --logdir ./logs"
   ]
  },
  {
   "cell_type": "markdown",
   "metadata": {
    "collapsed": true
   },
   "source": [
    "# ここからCNN"
   ]
  },
  {
   "cell_type": "code",
   "execution_count": 10,
   "metadata": {
    "collapsed": false
   },
   "outputs": [],
   "source": [
    "# 入出力データを定義\n",
    "x = tf.placeholder(tf.float32, [None, 784])\n",
    "y = tf.placeholder(tf.float32, [None, 10])\n",
    "# （バッチサイズ、高さ、横幅、チャンネル数）に変更\n",
    "img = tf.reshape(x, [-1, 28, 28, 1])\n",
    "\n",
    "# 畳み込み層1\n",
    "f1 = tf.Variable(tf.truncated_normal([5, 5, 1, 32], stddev=0.1))\n",
    "conv1 = tf.nn.conv2d(img, f1, strides=[1, 1, 1, 1], padding=\"SAME\")\n",
    "b1 = tf.Variable(tf.constant(0.1, shape=[32]))\n",
    "h_conv1 = tf.nn.relu(conv1 + b1)\n",
    "\n",
    "# プーリング層1\n",
    "h_pool1 = tf.nn.max_pool(h_conv1, ksize=[1, 2, 2, 1], strides=[1, 2, 2, 1], padding='SAME')\n",
    "\n",
    "# 畳み込み層2\n",
    "f2 = tf.Variable(tf.truncated_normal([5, 5, 32, 64], stddev=0.1))\n",
    "conv2 = tf.nn.conv2d(h_pool1, f2, strides=[1, 1, 1, 1], padding='SAME')\n",
    "b2 = tf.Variable(tf.constant(0.1, shape=[64]))\n",
    "h_conv2 = tf.nn.relu(conv2 + b2)\n",
    "\n",
    "# プーリング層2\n",
    "h_pool2 = tf.nn.max_pool(h_conv2, ksize=[1, 2, 2, 1], strides=[1, 2, 2, 1], padding='SAME')\n",
    "\n",
    "# 畳み込まれているものをフラットな形に変換\n",
    "h_pool2_flat = tf.reshape(h_pool2, [-1, 7*7*64])\n",
    "\n",
    "# 全結合層\n",
    "w_fc1 = tf.Variable(tf.truncated_normal([7*7*64, 1024], stddev=0.1))\n",
    "b_fc1 = tf.Variable(tf.constant(0.1, shape=[1024]))\n",
    "h_fc1 = tf.nn.relu(tf.matmul(h_pool2_flat, w_fc1) + b_fc1)\n",
    "\n",
    "# 出力層\n",
    "w_fc2 = tf.Variable(tf.truncated_normal([1024, 10], stddev=0.1))\n",
    "b_fc2 = tf.Variable(tf.constant(0.1, shape=[10]))\n",
    "out = tf.nn.softmax(tf.matmul(h_fc1, w_fc2) + b_fc2)\n",
    "\n",
    "y = tf.placeholder(tf.float32, [None, 10])\n",
    "\n",
    "# 誤差関数\n",
    "loss = tf.reduce_mean(-tf.reduce_sum(y * tf.log(out + 1e-5), axis=[1]))"
   ]
  },
  {
   "cell_type": "code",
   "execution_count": 11,
   "metadata": {
    "collapsed": false
   },
   "outputs": [
    {
     "name": "stdout",
     "output_type": "stream",
     "text": [
      "step 0: accuracy = 0.10\n",
      "step 100: accuracy = 0.88\n",
      "step 200: accuracy = 0.91\n",
      "step 300: accuracy = 0.93\n",
      "step 400: accuracy = 0.94\n",
      "step 500: accuracy = 0.95\n",
      "step 600: accuracy = 0.95\n",
      "step 700: accuracy = 0.96\n",
      "step 800: accuracy = 0.96\n",
      "step 900: accuracy = 0.96\n"
     ]
    }
   ],
   "source": [
    "# 訓練\n",
    "train_step = tf.train.GradientDescentOptimizer(0.01).minimize(loss)\n",
    "\n",
    "# 評価\n",
    "correct = tf.equal(tf.argmax(out, 1), tf.argmax(y, 1))\n",
    "accuracy = tf.reduce_mean(tf.cast(correct, tf.float32))\n",
    "\n",
    "init = tf.global_variables_initializer()\n",
    "\n",
    "\"\"\"実行部分\"\"\"\n",
    "\n",
    "saver = tf.train.Saver() # モデルの保存\n",
    "\n",
    "with tf.Session() as sess:\n",
    "    sess.run(init)\n",
    "    # テストデータをロード\n",
    "    test_images = mnist.test.images\n",
    "    test_labels = mnist.test.labels\n",
    "    \n",
    "    for step in range(1000):\n",
    "        train_images, train_labels = mnist.train.next_batch(50)\n",
    "        sess.run(train_step, feed_dict={x:train_images, y:train_labels})\n",
    "        \n",
    "        if step % 100 == 0:\n",
    "            acc_val = sess.run(accuracy, feed_dict={x:test_images, y:test_labels})\n",
    "            print(\"step %d: accuracy = %.2f\" % (step, acc_val))"
   ]
  },
  {
   "cell_type": "code",
   "execution_count": null,
   "metadata": {
    "collapsed": true
   },
   "outputs": [],
   "source": [
    "# モデルの保存\n"
   ]
  }
 ],
 "metadata": {
  "anaconda-cloud": {},
  "kernelspec": {
   "display_name": "Python [Root]",
   "language": "python",
   "name": "Python [Root]"
  },
  "language_info": {
   "codemirror_mode": {
    "name": "ipython",
    "version": 3
   },
   "file_extension": ".py",
   "mimetype": "text/x-python",
   "name": "python",
   "nbconvert_exporter": "python",
   "pygments_lexer": "ipython3",
   "version": "3.5.2"
  }
 },
 "nbformat": 4,
 "nbformat_minor": 0
}
