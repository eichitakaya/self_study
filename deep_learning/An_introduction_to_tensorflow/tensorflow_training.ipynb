{
 "cells": [
  {
   "cell_type": "code",
   "execution_count": 1,
   "metadata": {
    "collapsed": false
   },
   "outputs": [
    {
     "name": "stderr",
     "output_type": "stream",
     "text": [
      "/usr/local/var/pyenv/versions/anaconda3-4.1.1/lib/python3.5/importlib/_bootstrap.py:222: RuntimeWarning: compiletime version 3.6 of module 'tensorflow.python.framework.fast_tensor_util' does not match runtime version 3.5\n",
      "  return f(*args, **kwds)\n"
     ]
    }
   ],
   "source": [
    "import tensorflow as tf"
   ]
  },
  {
   "cell_type": "code",
   "execution_count": 22,
   "metadata": {
    "collapsed": false
   },
   "outputs": [
    {
     "name": "stdout",
     "output_type": "stream",
     "text": [
      "9\n",
      "18\n",
      "27\n"
     ]
    }
   ],
   "source": [
    "# hello tensorflow\n",
    "a = tf.constant(3, name=\"const1\") # 定数a\n",
    "b = tf.Variable(0, name=\"val1\") # 変数b\n",
    "add = tf.add(a, b) # aとbの加算\n",
    "\n",
    "# 変数bに加算結果をアサイン（割り当て）\n",
    "assign = tf.assign(b, add)\n",
    "c = tf.placeholder(tf.int32, name=\"input\") # 入力c\n",
    "\n",
    "# アサイン結果とcを乗算\n",
    "mul = tf.multiply(assign, c)\n",
    "\n",
    "# 変数の初期化\n",
    "init = tf.global_variables_initializer()\n",
    "\n",
    "with tf.Session() as sess:\n",
    "    # 初期化を実行\n",
    "    sess.run(init)\n",
    "    for i in range(3):\n",
    "        # 乗算を行うまでのループを実行\n",
    "        print(sess.run(mul, feed_dict={c:3}))"
   ]
  },
  {
   "cell_type": "code",
   "execution_count": 25,
   "metadata": {
    "collapsed": false
   },
   "outputs": [
    {
     "name": "stdout",
     "output_type": "stream",
     "text": [
      "3\n",
      "3\n",
      "3\n"
     ]
    }
   ],
   "source": [
    "with tf.Session() as sess:\n",
    "    sess.run(init)\n",
    "    for i in range(3):\n",
    "        print(sess.run(add))"
   ]
  },
  {
   "cell_type": "code",
   "execution_count": 27,
   "metadata": {
    "collapsed": false
   },
   "outputs": [
    {
     "name": "stdout",
     "output_type": "stream",
     "text": [
      "Successfully downloaded train-images-idx3-ubyte.gz 9912422 bytes.\n",
      "Extracting data/train-images-idx3-ubyte.gz\n",
      "Successfully downloaded train-labels-idx1-ubyte.gz 28881 bytes.\n",
      "Extracting data/train-labels-idx1-ubyte.gz\n",
      "Successfully downloaded t10k-images-idx3-ubyte.gz 1648877 bytes.\n",
      "Extracting data/t10k-images-idx3-ubyte.gz\n",
      "Successfully downloaded t10k-labels-idx1-ubyte.gz 4542 bytes.\n",
      "Extracting data/t10k-labels-idx1-ubyte.gz\n"
     ]
    }
   ],
   "source": [
    "# mnistのダウンロード\n",
    "from tensorflow.examples.tutorials.mnist import input_data\n",
    "\n",
    "# データを格納したオブジェクトを呼び出す\n",
    "mnist = input_data.read_data_sets(\"data/\", one_hot=True)"
   ]
  },
  {
   "cell_type": "code",
   "execution_count": 31,
   "metadata": {
    "collapsed": true
   },
   "outputs": [],
   "source": [
    "# 訓練用の入力データ，正解データをミニバッチ数を指定して取得\n",
    "train_images, train_labels = mnist.train.next_batch(50)\n",
    "\n",
    "# テスト用の全画像データを取得\n",
    "test_images = mnist.test.images\n",
    "# テスト用の全正解データを取得\n",
    "test_labels = mnist.test.labels"
   ]
  },
  {
   "cell_type": "code",
   "execution_count": 33,
   "metadata": {
    "collapsed": false
   },
   "outputs": [
    {
     "data": {
      "text/plain": [
       "(10000, 784)"
      ]
     },
     "execution_count": 33,
     "metadata": {},
     "output_type": "execute_result"
    }
   ],
   "source": [
    "test_images.shape"
   ]
  },
  {
   "cell_type": "code",
   "execution_count": 35,
   "metadata": {
    "collapsed": true
   },
   "outputs": [],
   "source": [
    "#  モデルの定義\n",
    "\n",
    "# 入力データを定義\n",
    "x = tf.placeholder(tf.float32, [None, 784])\n",
    "\n",
    "# 入力層から中間層\n",
    "w_1 = tf.Variable(tf.truncated_normal([784, 64], stddev=0.1), name=\"w1\")\n",
    "b_1 = tf.Variable(tf.zeros([64]), name=\"b1\")\n",
    "h_1 = tf.nn.relu(tf.matmul(x, w_1) + b_1)\n",
    "\n",
    "# 中間層から出力層\n",
    "w_2 = tf.Variable(tf.truncated_normal([64, 10], stddev=0.1), name=\"w2\")\n",
    "b_2 = tf.Variable(tf.zeros([10]), name=\"b2\")\n",
    "out = tf.nn.softmax(tf.matmul(h_1, w_2) + b_2)"
   ]
  },
  {
   "cell_type": "code",
   "execution_count": null,
   "metadata": {
    "collapsed": true
   },
   "outputs": [],
   "source": []
  }
 ],
 "metadata": {
  "kernelspec": {
   "display_name": "Python [Root]",
   "language": "python",
   "name": "Python [Root]"
  },
  "language_info": {
   "codemirror_mode": {
    "name": "ipython",
    "version": 3
   },
   "file_extension": ".py",
   "mimetype": "text/x-python",
   "name": "python",
   "nbconvert_exporter": "python",
   "pygments_lexer": "ipython3",
   "version": "3.5.2"
  }
 },
 "nbformat": 4,
 "nbformat_minor": 0
}
