{
 "cells": [
  {
   "cell_type": "markdown",
   "metadata": {},
   "source": [
    "# RNNを試してみる\n",
    "\n",
    "### 必要なパッケージのインポート"
   ]
  },
  {
   "cell_type": "code",
   "execution_count": 1,
   "metadata": {
    "collapsed": false
   },
   "outputs": [
    {
     "name": "stderr",
     "output_type": "stream",
     "text": [
      "Using TensorFlow backend.\n"
     ]
    }
   ],
   "source": [
    "import numpy as np\n",
    "import matplotlib.pyplot as plt\n",
    "from keras.models import Sequential\n",
    "from keras.layers.core import Dense, Activation\n",
    "from keras.layers.recurrent import SimpleRNN\n",
    "from keras.optimizers import Adam\n",
    "from keras.callbacks import EarlyStopping\n",
    "from sklearn.model_selection import train_test_split\n",
    "from sklearn.utils import shuffle\n",
    "\n",
    "np.random.seed(0)"
   ]
  },
  {
   "cell_type": "markdown",
   "metadata": {},
   "source": [
    "### 実験用データの生成"
   ]
  },
  {
   "cell_type": "code",
   "execution_count": 2,
   "metadata": {
    "collapsed": true
   },
   "outputs": [],
   "source": [
    "def sin(x, T=100):\n",
    "    return np.sin(2.0 * np.pi * x / T)\n",
    "\n",
    "\n",
    "def toy_problem(T=100, ampl=0.05):\n",
    "    x = np.arange(0, 2 * T + 1)\n",
    "    noise = ampl * np.random.uniform(low=-1.0, high=1.0, size=len(x))\n",
    "    return sin(x) + noise\n",
    "\n",
    "T = 100\n",
    "f = toy_problem(T)\n",
    "\n",
    "length_of_sequences = 2 * T\n",
    "maxlen = 25  # ひとつの時系列データの長さ\n",
    "\n",
    "data = []\n",
    "target = []\n",
    "\n",
    "for i in range(0, length_of_sequences - maxlen + 1):\n",
    "    data.append(f[i: i + maxlen])\n",
    "    target.append(f[i + maxlen])\n",
    "\n",
    "X = np.array(data).reshape(len(data), maxlen, 1)\n",
    "Y = np.array(target).reshape(len(data), 1)\n",
    "\n",
    "# データ設定\n",
    "N_train = int(len(data) * 0.9)\n",
    "N_validation = len(data) - N_train\n",
    "\n",
    "X_train, X_validation, Y_train, Y_validation = \\\n",
    "    train_test_split(X, Y, test_size=N_validation)"
   ]
  },
  {
   "cell_type": "markdown",
   "metadata": {},
   "source": [
    "### モデルの定義"
   ]
  },
  {
   "cell_type": "code",
   "execution_count": 7,
   "metadata": {
    "collapsed": true
   },
   "outputs": [],
   "source": [
    "n_in = len(X[0][0])  # 1\n",
    "n_hidden = 20\n",
    "n_out = len(Y[0])  # 1\n",
    "\n",
    "\n",
    "def weight_variable(shape, name=None):\n",
    "    return np.random.normal(scale=.01, size=shape)\n",
    "\n",
    "\n",
    "early_stopping = EarlyStopping(monitor='val_loss', patience=10, verbose=1)\n",
    "\n",
    "model = Sequential()\n",
    "model.add(SimpleRNN(n_hidden,\n",
    "                    kernel_initializer=weight_variable,\n",
    "                    input_shape=(maxlen, n_in)))\n",
    "model.add(Dense(n_out, kernel_initializer=weight_variable))\n",
    "model.add(Activation('linear'))\n",
    "\n",
    "optimizer = Adam(lr=0.001, beta_1=0.9, beta_2=0.999)\n",
    "model.compile(loss='mean_squared_error',\n",
    "              optimizer=optimizer)"
   ]
  },
  {
   "cell_type": "markdown",
   "metadata": {},
   "source": [
    "### モデルの学習"
   ]
  },
  {
   "cell_type": "code",
   "execution_count": 8,
   "metadata": {
    "collapsed": false
   },
   "outputs": [
    {
     "name": "stdout",
     "output_type": "stream",
     "text": [
      "Train on 158 samples, validate on 18 samples\n",
      "Epoch 1/500\n",
      "158/158 [==============================] - 0s - loss: 0.5048 - val_loss: 0.3826\n",
      "Epoch 2/500\n",
      "158/158 [==============================] - 0s - loss: 0.3965 - val_loss: 0.2554\n",
      "Epoch 3/500\n",
      "158/158 [==============================] - 0s - loss: 0.2214 - val_loss: 0.0978\n",
      "Epoch 4/500\n",
      "158/158 [==============================] - 0s - loss: 0.0854 - val_loss: 0.0594\n",
      "Epoch 5/500\n",
      "158/158 [==============================] - 0s - loss: 0.0605 - val_loss: 0.0805\n",
      "Epoch 6/500\n",
      "158/158 [==============================] - 0s - loss: 0.0445 - val_loss: 0.0364\n",
      "Epoch 7/500\n",
      "158/158 [==============================] - 0s - loss: 0.0394 - val_loss: 0.0335\n",
      "Epoch 8/500\n",
      "158/158 [==============================] - 0s - loss: 0.0388 - val_loss: 0.0293\n",
      "Epoch 9/500\n",
      "158/158 [==============================] - 0s - loss: 0.0311 - val_loss: 0.0340\n",
      "Epoch 10/500\n",
      "158/158 [==============================] - 0s - loss: 0.0258 - val_loss: 0.0376\n",
      "Epoch 11/500\n",
      "158/158 [==============================] - 0s - loss: 0.0264 - val_loss: 0.0180\n",
      "Epoch 12/500\n",
      "158/158 [==============================] - 0s - loss: 0.0196 - val_loss: 0.0147\n",
      "Epoch 13/500\n",
      "158/158 [==============================] - 0s - loss: 0.0176 - val_loss: 0.0113\n",
      "Epoch 14/500\n",
      "158/158 [==============================] - 0s - loss: 0.0117 - val_loss: 0.0113\n",
      "Epoch 15/500\n",
      "158/158 [==============================] - 0s - loss: 0.0075 - val_loss: 0.0100\n",
      "Epoch 16/500\n",
      "158/158 [==============================] - 0s - loss: 0.0053 - val_loss: 0.0037\n",
      "Epoch 17/500\n",
      "158/158 [==============================] - 0s - loss: 0.0043 - val_loss: 0.0029\n",
      "Epoch 18/500\n",
      "158/158 [==============================] - 0s - loss: 0.0037 - val_loss: 0.0034\n",
      "Epoch 19/500\n",
      "158/158 [==============================] - 0s - loss: 0.0037 - val_loss: 0.0027\n",
      "Epoch 20/500\n",
      "158/158 [==============================] - 0s - loss: 0.0029 - val_loss: 0.0021\n",
      "Epoch 21/500\n",
      "158/158 [==============================] - 0s - loss: 0.0027 - val_loss: 0.0019\n",
      "Epoch 22/500\n",
      "158/158 [==============================] - 0s - loss: 0.0025 - val_loss: 0.0021\n",
      "Epoch 23/500\n",
      "158/158 [==============================] - 0s - loss: 0.0022 - val_loss: 0.0012\n",
      "Epoch 24/500\n",
      "158/158 [==============================] - 0s - loss: 0.0023 - val_loss: 0.0014\n",
      "Epoch 25/500\n",
      "158/158 [==============================] - 0s - loss: 0.0019 - val_loss: 0.0017\n",
      "Epoch 26/500\n",
      "158/158 [==============================] - 0s - loss: 0.0019 - val_loss: 0.0013\n",
      "Epoch 27/500\n",
      "158/158 [==============================] - 0s - loss: 0.0016 - val_loss: 0.0014\n",
      "Epoch 28/500\n",
      "158/158 [==============================] - 0s - loss: 0.0016 - val_loss: 0.0025\n",
      "Epoch 29/500\n",
      "158/158 [==============================] - 0s - loss: 0.0019 - val_loss: 0.0015\n",
      "Epoch 30/500\n",
      "158/158 [==============================] - 0s - loss: 0.0015 - val_loss: 0.0013\n",
      "Epoch 31/500\n",
      "158/158 [==============================] - 0s - loss: 0.0015 - val_loss: 0.0021\n",
      "Epoch 32/500\n",
      "158/158 [==============================] - 0s - loss: 0.0014 - val_loss: 0.0014\n",
      "Epoch 33/500\n",
      "158/158 [==============================] - 0s - loss: 0.0013 - val_loss: 0.0018\n",
      "Epoch 34/500\n",
      "158/158 [==============================] - 0s - loss: 0.0011 - val_loss: 0.0016\n",
      "Epoch 00033: early stopping\n"
     ]
    },
    {
     "data": {
      "text/plain": [
       "<keras.callbacks.History at 0x122cba198>"
      ]
     },
     "execution_count": 8,
     "metadata": {},
     "output_type": "execute_result"
    }
   ],
   "source": [
    "epochs = 500\n",
    "batch_size = 10\n",
    "\n",
    "model.fit(X_train, Y_train,\n",
    "          batch_size=batch_size,\n",
    "          epochs=epochs,\n",
    "          validation_data=(X_validation, Y_validation),\n",
    "          callbacks=[early_stopping])"
   ]
  },
  {
   "cell_type": "code",
   "execution_count": null,
   "metadata": {
    "collapsed": true
   },
   "outputs": [],
   "source": []
  }
 ],
 "metadata": {
  "kernelspec": {
   "display_name": "Python [Root]",
   "language": "python",
   "name": "Python [Root]"
  },
  "language_info": {
   "codemirror_mode": {
    "name": "ipython",
    "version": 3
   },
   "file_extension": ".py",
   "mimetype": "text/x-python",
   "name": "python",
   "nbconvert_exporter": "python",
   "pygments_lexer": "ipython3",
   "version": "3.5.2"
  }
 },
 "nbformat": 4,
 "nbformat_minor": 0
}
