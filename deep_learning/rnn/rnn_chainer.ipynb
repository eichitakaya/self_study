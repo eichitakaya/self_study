{
 "cells": [
  {
   "cell_type": "markdown",
   "metadata": {
    "collapsed": true
   },
   "source": [
    "# RNN with Chainer\n",
    "\n",
    "### 必要なパッケージのインポート"
   ]
  },
  {
   "cell_type": "code",
   "execution_count": 3,
   "metadata": {
    "collapsed": true
   },
   "outputs": [],
   "source": [
    "import numpy as np\n",
    "import matplotlib.pyplot as plt\n",
    "%matplotlib inline\n",
    "import chainer \n",
    "import chainer.functions as F\n",
    "import chainer.links as L\n",
    "import chainer.optimizers\n",
    "from sklearn.model_selection import train_test_split\n",
    "from sklearn.utils import shuffle\n",
    "\n",
    "np.random.seed(0)"
   ]
  },
  {
   "cell_type": "markdown",
   "metadata": {},
   "source": [
    "### 実験用データの生成"
   ]
  },
  {
   "cell_type": "code",
   "execution_count": 16,
   "metadata": {
    "collapsed": false
   },
   "outputs": [],
   "source": [
    "def sin(x, T=100):\n",
    "    return np.sin(2.0 * np.pi * x / T)\n",
    "\n",
    "\n",
    "def toy_problem(T=100, ampl=0.05):\n",
    "    x = np.arange(0, 2 * T + 1)\n",
    "    noise = ampl * np.random.uniform(low=-1.0, high=1.0, size=len(x))\n",
    "    return sin(x) + noise\n",
    "\n",
    "T = 100\n",
    "f = toy_problem(T)\n",
    "\n",
    "length_of_sequences = 2 * T\n",
    "maxlen = 25  # ひとつの時系列データの長さ\n",
    "\n",
    "data = []\n",
    "target = []\n",
    "\n",
    "for i in range(0, length_of_sequences - maxlen + 1):\n",
    "    data.append(f[i: i + maxlen])\n",
    "    target.append(f[i + maxlen])\n",
    "\n",
    "X = np.array(data).reshape(len(data), maxlen, 1)\n",
    "Y = np.array(target).reshape(len(data), 1)\n",
    "\n",
    "# データ設定\n",
    "N_train = int(len(data) * 0.9)\n",
    "N_validation = len(data) - N_train\n",
    "\n",
    "X_train, X_validation, Y_train, Y_validation = train_test_split(X, Y, test_size=N_validation)"
   ]
  },
  {
   "cell_type": "code",
   "execution_count": 18,
   "metadata": {
    "collapsed": false
   },
   "outputs": [
    {
     "data": {
      "text/plain": [
       "array([[[ 0.84330248],\n",
       "        [ 0.80231657],\n",
       "        [ 0.68921   ],\n",
       "        ..., \n",
       "        [-0.39484279],\n",
       "        [-0.46085013],\n",
       "        [-0.49039341]],\n",
       "\n",
       "       [[-0.74322616],\n",
       "        [-0.7583467 ],\n",
       "        [-0.83016   ],\n",
       "        ..., \n",
       "        [-0.78622818],\n",
       "        [-0.75676702],\n",
       "        [-0.69777477]],\n",
       "\n",
       "       [[-1.00285782],\n",
       "        [-0.94445   ],\n",
       "        [-0.94950468],\n",
       "        ..., \n",
       "        [-0.02460087],\n",
       "        [ 0.02196202],\n",
       "        [ 0.10942952]],\n",
       "\n",
       "       ..., \n",
       "       [[-0.65968996],\n",
       "        [-0.58534727],\n",
       "        [-0.57408877],\n",
       "        ..., \n",
       "        [ 0.61219249],\n",
       "        [ 0.66637046],\n",
       "        [ 0.76484637]],\n",
       "\n",
       "       [[ 0.52301867],\n",
       "        [ 0.53792359],\n",
       "        [ 0.61219249],\n",
       "        ..., \n",
       "        [ 0.95759365],\n",
       "        [ 0.93925055],\n",
       "        [ 0.84021395]],\n",
       "\n",
       "       [[ 0.93925055],\n",
       "        [ 0.84021395],\n",
       "        [ 0.83701836],\n",
       "        ..., \n",
       "        [-0.23471938],\n",
       "        [-0.3181867 ],\n",
       "        [-0.3803839 ]]])"
      ]
     },
     "execution_count": 18,
     "metadata": {},
     "output_type": "execute_result"
    }
   ],
   "source": [
    "X_train"
   ]
  },
  {
   "cell_type": "code",
   "execution_count": null,
   "metadata": {
    "collapsed": true
   },
   "outputs": [],
   "source": []
  }
 ],
 "metadata": {
  "kernelspec": {
   "display_name": "Python [Root]",
   "language": "python",
   "name": "Python [Root]"
  },
  "language_info": {
   "codemirror_mode": {
    "name": "ipython",
    "version": 3
   },
   "file_extension": ".py",
   "mimetype": "text/x-python",
   "name": "python",
   "nbconvert_exporter": "python",
   "pygments_lexer": "ipython3",
   "version": "3.5.2"
  }
 },
 "nbformat": 4,
 "nbformat_minor": 0
}
