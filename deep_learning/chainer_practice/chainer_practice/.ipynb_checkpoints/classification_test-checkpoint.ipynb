{
 "cells": [
  {
   "cell_type": "code",
   "execution_count": 1,
   "metadata": {
    "collapsed": true
   },
   "outputs": [],
   "source": [
    "%matplotlib inline"
   ]
  },
  {
   "cell_type": "code",
   "execution_count": 2,
   "metadata": {
    "collapsed": false
   },
   "outputs": [
    {
     "name": "stdout",
     "output_type": "stream",
     "text": [
      "epoch       main/loss   main/accuracy  validation/main/loss  validation/main/accuracy  elapsed_time\n",
      "\u001b[J1           1.55118     0.436781       1.33559               0.519705                  6.09307       \n",
      "\u001b[J2           1.24418     0.551937       1.20892               0.563197                  11.7061       \n",
      "\u001b[J3           1.09452     0.609075       1.17599               0.580215                  17.1812       \n",
      "\u001b[J4           0.977321    0.652469       1.12981               0.598627                  22.8672       \n",
      "\u001b[J5           0.867811    0.691057       1.06906               0.619924                  28.3825       \n",
      "\u001b[J6           0.76205     0.729073       1.08851               0.62918                   33.7901       \n",
      "\u001b[J7           0.654319    0.769626       1.1346                0.630076                  39.1825       \n",
      "\u001b[J8           0.547686    0.805678       1.17452               0.630175                  44.6538       \n",
      "\u001b[J9           0.443951    0.84413        1.24817               0.624701                  50.1602       \n",
      "\u001b[J10          0.345299    0.879081       1.38185               0.624502                  55.5608       \n",
      "\u001b[J11          0.27609     0.903869       1.52478               0.624502                  60.9632       \n",
      "\u001b[J12          0.20468     0.931278       1.75444               0.615645                  66.3572       \n",
      "\u001b[J13          0.173162    0.940098       1.90387               0.624104                  71.8275       \n",
      "\u001b[J14          0.150958    0.947783       1.95818               0.617237                  77.203        \n",
      "\u001b[J15          0.128273    0.955886       2.059                 0.621517                  82.5908       \n",
      "\u001b[J16          0.112416    0.959967       2.20923               0.617735                  88.0493       \n",
      "\u001b[J17          0.0967523   0.967132       2.31024               0.613854                  93.4481       \n",
      "\u001b[J18          0.106894    0.963728       2.38086               0.614849                  98.8471       \n",
      "\u001b[J19          0.0972029   0.966369       2.42261               0.614451                  104.337       \n",
      "\u001b[J20          0.0851806   0.970591       2.51874               0.61873                   109.685       \n"
     ]
    }
   ],
   "source": [
    "from chainer.datasets import cifar\n",
    "from chainer import iterators\n",
    "from chainer import optimizers\n",
    "from chainer import training\n",
    "from chainer.training import extensions\n",
    "import chainer.links as L\n",
    "import networks\n",
    "\n",
    "def train(model_object, batchsize=64, gpu_id=0, max_epoch=20, train_dataset=None, test_dataset=None):\n",
    "\n",
    "    # 1. Dataset\n",
    "    if train_dataset is None and test_dataset is None:\n",
    "        train, test = cifar.get_cifar10()\n",
    "    else:\n",
    "        train, test = train_dataset, test_dataset\n",
    "\n",
    "    # 2. Iterator\n",
    "    train_iter = iterators.SerialIterator(train, batchsize)\n",
    "    test_iter = iterators.SerialIterator(test, batchsize, False, False)\n",
    "\n",
    "    # 3. Model\n",
    "    model = L.Classifier(model_object)\n",
    "    if gpu_id >= 0:\n",
    "        model.to_gpu(gpu_id)\n",
    "\n",
    "    # 4. Optimizer\n",
    "    optimizer = optimizers.Adam()\n",
    "    optimizer.setup(model)\n",
    "\n",
    "    # 5. Updater\n",
    "    updater = training.StandardUpdater(train_iter, optimizer, device=gpu_id)\n",
    "\n",
    "    # 6. Trainer\n",
    "    trainer = training.Trainer(updater, (max_epoch, 'epoch'), out='{}_cifar10_result'.format(model_object.__class__.__name__))\n",
    "\n",
    "    # 7. Evaluator\n",
    "\n",
    "    class TestModeEvaluator(extensions.Evaluator):\n",
    "\n",
    "        def evaluate(self):\n",
    "            model = self.get_target('main')\n",
    "            model.train = False\n",
    "            ret = super(TestModeEvaluator, self).evaluate()\n",
    "            model.train = True\n",
    "            return ret\n",
    "\n",
    "    trainer.extend(extensions.LogReport())\n",
    "    trainer.extend(TestModeEvaluator(test_iter, model, device=gpu_id))\n",
    "    trainer.extend(extensions.PrintReport(['epoch', 'main/loss', 'main/accuracy', 'validation/main/loss', 'validation/main/accuracy', 'elapsed_time']))\n",
    "    trainer.extend(extensions.PlotReport(['main/loss', 'validation/main/loss'], x_key='epoch', file_name='loss.png'))\n",
    "    trainer.extend(extensions.PlotReport(['main/accuracy', 'validation/main/accuracy'], x_key='epoch', file_name='accuracy.png'))\n",
    "    trainer.run()\n",
    "    del trainer\n",
    "\n",
    "    return model\n",
    "\n",
    "model = train(networks.DeepCNN(10), gpu_id=1)  # CPUで実行する場合は、`gpu_id=-1`を指定"
   ]
  },
  {
   "cell_type": "code",
   "execution_count": null,
   "metadata": {
    "collapsed": true
   },
   "outputs": [],
   "source": []
  }
 ],
 "metadata": {
  "anaconda-cloud": {},
  "kernelspec": {
   "display_name": "Python [Root]",
   "language": "python",
   "name": "Python [Root]"
  },
  "language_info": {
   "codemirror_mode": {
    "name": "ipython",
    "version": 3
   },
   "file_extension": ".py",
   "mimetype": "text/x-python",
   "name": "python",
   "nbconvert_exporter": "python",
   "pygments_lexer": "ipython3",
   "version": "3.5.2"
  }
 },
 "nbformat": 4,
 "nbformat_minor": 0
}
