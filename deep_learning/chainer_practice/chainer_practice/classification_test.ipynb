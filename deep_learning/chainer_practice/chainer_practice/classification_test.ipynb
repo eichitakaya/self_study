{
 "cells": [
  {
   "cell_type": "code",
   "execution_count": 1,
   "metadata": {
    "collapsed": true
   },
   "outputs": [],
   "source": [
    "%matplotlib inline"
   ]
  },
  {
   "cell_type": "code",
   "execution_count": 2,
   "metadata": {
    "collapsed": false
   },
   "outputs": [
    {
     "name": "stdout",
     "output_type": "stream",
     "text": [
      "epoch       main/loss   main/accuracy  validation/main/loss  validation/main/accuracy  elapsed_time\n",
      "\u001b[J1           2.00102     0.264066       1.64667               0.380474                  22.6498       \n",
      "\u001b[J2           1.48478     0.444562       1.27334               0.555334                  44.8164       \n",
      "\u001b[J3           1.19862     0.572043       1.02784               0.65416                   66.9242       \n",
      "\u001b[J4           0.988633    0.660191       1.05836               0.63963                   89.0051       \n",
      "\u001b[J5           0.826074    0.724724       0.73677               0.762639                  111.121       \n",
      "\u001b[J6           0.698896    0.769326       0.643213              0.788117                  133.248       \n",
      "\u001b[J7           0.606899    0.799296       0.592886              0.801652                  155.35        \n",
      "\u001b[J8           0.536283    0.824444       0.5744                0.818471                  177.468       \n",
      "\u001b[J9           0.478741    0.842931       0.56951               0.813396                  199.539       \n",
      "\u001b[J10          0.427517    0.858615       0.53244               0.830613                  221.585       \n",
      "\u001b[J11          0.390686    0.870519       0.440945              0.856588                  243.651       \n",
      "\u001b[J12          0.347425    0.885083       0.482342              0.849423                  265.693       \n",
      "\u001b[J13          0.320679    0.894461       0.439696              0.860271                  287.823       \n",
      "\u001b[J14          0.288366    0.90485        0.47587               0.857285                  309.934       \n",
      "\u001b[J15          0.261926    0.912852       0.45506               0.86246                   332.038       \n",
      "\u001b[J16          0.240536    0.920655       0.472084              0.862062                  354.159       \n",
      "\u001b[J17          0.225124    0.925591       0.457666              0.870123                  376.307       \n",
      "\u001b[J18          0.201449    0.933299       0.500624              0.86883                   398.44        \n",
      "\u001b[J19          0.191726    0.93686        0.484153              0.870621                  420.658       \n",
      "\u001b[J20          0.179085    0.941581       0.467212              0.875995                  442.747       \n"
     ]
    }
   ],
   "source": [
    "from chainer.datasets import cifar\n",
    "from chainer import iterators\n",
    "from chainer import optimizers\n",
    "from chainer import training\n",
    "from chainer.training import extensions\n",
    "import chainer.links as L\n",
    "import networks\n",
    "\n",
    "def train(model_object, batchsize=64, gpu_id=0, max_epoch=20, train_dataset=None, test_dataset=None):\n",
    "\n",
    "    # 1. Dataset\n",
    "    if train_dataset is None and test_dataset is None:\n",
    "        train, test = cifar.get_cifar10()\n",
    "    else:\n",
    "        train, test = train_dataset, test_dataset\n",
    "\n",
    "    # 2. Iterator\n",
    "    train_iter = iterators.SerialIterator(train, batchsize)\n",
    "    test_iter = iterators.SerialIterator(test, batchsize, False, False)\n",
    "\n",
    "    # 3. Model\n",
    "    model = L.Classifier(model_object)\n",
    "    if gpu_id >= 0:\n",
    "        model.to_gpu(gpu_id)\n",
    "\n",
    "    # 4. Optimizer\n",
    "    optimizer = optimizers.Adam()\n",
    "    optimizer.setup(model)\n",
    "\n",
    "    # 5. Updater\n",
    "    updater = training.StandardUpdater(train_iter, optimizer, device=gpu_id)\n",
    "\n",
    "    # 6. Trainer\n",
    "    trainer = training.Trainer(updater, (max_epoch, 'epoch'), out='{}_cifar10_result'.format(model_object.__class__.__name__))\n",
    "\n",
    "    # 7. Evaluator\n",
    "\n",
    "    class TestModeEvaluator(extensions.Evaluator):\n",
    "\n",
    "        def evaluate(self):\n",
    "            model = self.get_target('main')\n",
    "            model.train = False\n",
    "            ret = super(TestModeEvaluator, self).evaluate()\n",
    "            model.train = True\n",
    "            return ret\n",
    "\n",
    "    trainer.extend(extensions.LogReport())\n",
    "    trainer.extend(TestModeEvaluator(test_iter, model, device=gpu_id))\n",
    "    trainer.extend(extensions.PrintReport(['epoch', 'main/loss', 'main/accuracy', 'validation/main/loss', 'validation/main/accuracy', 'elapsed_time']))\n",
    "    trainer.extend(extensions.PlotReport(['main/loss', 'validation/main/loss'], x_key='epoch', file_name='loss.png'))\n",
    "    trainer.extend(extensions.PlotReport(['main/accuracy', 'validation/main/accuracy'], x_key='epoch', file_name='accuracy.png'))\n",
    "    trainer.run()\n",
    "    del trainer\n",
    "\n",
    "    return model\n",
    "\n",
    "model = train(networks.DeepCNN(10), gpu_id=1)  # CPUで実行する場合は、`gpu_id=-1`を指定"
   ]
  },
  {
   "cell_type": "code",
   "execution_count": null,
   "metadata": {
    "collapsed": true
   },
   "outputs": [],
   "source": []
  }
 ],
 "metadata": {
  "anaconda-cloud": {},
  "kernelspec": {
   "display_name": "Python [Root]",
   "language": "python",
   "name": "Python [Root]"
  },
  "language_info": {
   "codemirror_mode": {
    "name": "ipython",
    "version": 3
   },
   "file_extension": ".py",
   "mimetype": "text/x-python",
   "name": "python",
   "nbconvert_exporter": "python",
   "pygments_lexer": "ipython3",
   "version": "3.5.2"
  }
 },
 "nbformat": 4,
 "nbformat_minor": 0
}
