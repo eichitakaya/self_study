{
 "cells": [
  {
   "cell_type": "markdown",
   "id": "c3625ef1-89dc-4a27-b3b9-f20f61e9acac",
   "metadata": {},
   "source": [
    "# 弱教師あり学習をやってみよう"
   ]
  },
  {
   "cell_type": "markdown",
   "id": "3a78d60b-ddbf-4100-91d0-98e005cd0fa7",
   "metadata": {},
   "source": [
    "## 弱教師あり学習のおさらい"
   ]
  },
  {
   "cell_type": "markdown",
   "id": "0549500d-daf3-451e-ad19-9ab1db6de8dd",
   "metadata": {},
   "source": [
    "## 弱教師あり学習による肺セグメンテーション"
   ]
  },
  {
   "cell_type": "markdown",
   "id": "0310d6c7-1ff4-4282-b5ce-38628ed00b85",
   "metadata": {},
   "source": [
    "### 問題設定\n",
    "~の論文を参考に，弱教師ありセグメンテーションに挑戦しましょう．\\\n",
    "ここでの「弱教師」は，アノテーションを省エネで付与した場合を考えます．\\\n",
    "具体的には，肺領域のうち，ほんの一部のみを点のように塗りつぶしたようなラベルが得られているとします（図１）．"
   ]
  },
  {
   "cell_type": "code",
   "execution_count": null,
   "id": "7becf514-3a08-49b9-84b4-ba044fbf8bd1",
   "metadata": {},
   "outputs": [],
   "source": []
  }
 ],
 "metadata": {
  "kernelspec": {
   "display_name": "Python 3 (ipykernel)",
   "language": "python",
   "name": "python3"
  },
  "language_info": {
   "codemirror_mode": {
    "name": "ipython",
    "version": 3
   },
   "file_extension": ".py",
   "mimetype": "text/x-python",
   "name": "python",
   "nbconvert_exporter": "python",
   "pygments_lexer": "ipython3",
   "version": "3.9.2"
  }
 },
 "nbformat": 4,
 "nbformat_minor": 5
}
