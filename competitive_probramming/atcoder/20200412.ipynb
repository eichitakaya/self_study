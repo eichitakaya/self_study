{
 "cells": [
  {
   "cell_type": "code",
   "execution_count": 3,
   "metadata": {},
   "outputs": [
    {
     "name": "stdin",
     "output_type": "stream",
     "text": [
      " 777\n"
     ]
    },
    {
     "name": "stdout",
     "output_type": "stream",
     "text": [
      "Yes\n"
     ]
    }
   ],
   "source": [
    "N = int(input())\n",
    "n_str = str(N)\n",
    "if \"7\" in n_str:\n",
    "    print(\"Yes\")\n",
    "else:\n",
    "    print(\"No\")"
   ]
  },
  {
   "cell_type": "code",
   "execution_count": 19,
   "metadata": {},
   "outputs": [
    {
     "name": "stdin",
     "output_type": "stream",
     "text": [
      " 15\n"
     ]
    },
    {
     "name": "stdout",
     "output_type": "stream",
     "text": [
      "60\n"
     ]
    }
   ],
   "source": [
    "N = int(input())\n",
    "s = 0\n",
    "for ii in range(N):\n",
    "    i = ii + 1\n",
    "    if i % 3 == 0 and i % 5 == 0:\n",
    "        continue\n",
    "    elif i % 3 == 0:\n",
    "        continue\n",
    "    elif i % 5 == 0:\n",
    "        continue\n",
    "    else:\n",
    "        s += i\n",
    "print(s)"
   ]
  },
  {
   "cell_type": "code",
   "execution_count": 7,
   "metadata": {},
   "outputs": [
    {
     "data": {
      "text/plain": [
       "8000000"
      ]
     },
     "execution_count": 7,
     "metadata": {},
     "output_type": "execute_result"
    }
   ],
   "source": [
    "200*200*200"
   ]
  },
  {
   "cell_type": "code",
   "execution_count": 20,
   "metadata": {},
   "outputs": [
    {
     "name": "stdin",
     "output_type": "stream",
     "text": [
      " 2\n"
     ]
    },
    {
     "name": "stdout",
     "output_type": "stream",
     "text": [
      "9\n"
     ]
    }
   ],
   "source": [
    "import math\n",
    "import itertools\n",
    "\n",
    "K = int(input())\n",
    "s = 0\n",
    "l = range(K)\n",
    "\n",
    "for i in itertools.combinations_with_replacement(l, 3):\n",
    "    if i[0] == i[1] == i[2]:\n",
    "        s += math.gcd(math.gcd(i[0]+1, i[1]+1), i[2]+1)\n",
    "    elif i[0] != i[1] != i[2]:\n",
    "        s += (math.gcd(math.gcd(i[0]+1, i[1]+1), i[2]+1)*6)\n",
    "    else:\n",
    "        s += (math.gcd(math.gcd(i[0]+1, i[1]+1), i[2]+1)*3)\n",
    "print(s)"
   ]
  },
  {
   "cell_type": "code",
   "execution_count": 11,
   "metadata": {},
   "outputs": [
    {
     "data": {
      "text/plain": [
       "range(0, 2)"
      ]
     },
     "execution_count": 11,
     "metadata": {},
     "output_type": "execute_result"
    }
   ],
   "source": []
  },
  {
   "cell_type": "code",
   "execution_count": 23,
   "metadata": {},
   "outputs": [
    {
     "name": "stdout",
     "output_type": "stream",
     "text": [
      "1353400\n"
     ]
    }
   ],
   "source": [
    "def combinations_with_replacement_count(n, r):\n",
    "    return combinations_count(n + r - 1, r)\n",
    "\n",
    "print(combinations_with_replacement_count(200, 3))"
   ]
  },
  {
   "cell_type": "code",
   "execution_count": 17,
   "metadata": {},
   "outputs": [
    {
     "data": {
      "text/plain": [
       "1313400"
      ]
     },
     "execution_count": 17,
     "metadata": {},
     "output_type": "execute_result"
    }
   ],
   "source": [
    "combinations_count(200, 3)"
   ]
  },
  {
   "cell_type": "code",
   "execution_count": 1,
   "metadata": {},
   "outputs": [
    {
     "name": "stdout",
     "output_type": "stream",
     "text": [
      "<class 'itertools.combinations_with_replacement'>\n",
      "1353400\n"
     ]
    }
   ],
   "source": [
    "import itertools\n",
    "\n",
    "l = range(200)\n",
    "\n",
    "h = itertools.combinations_with_replacement(l, 3)\n",
    "\n",
    "print(type(h))\n",
    "# <class 'itertools.combinations_with_replacement'>\n",
    "\n",
    "h_list = list(itertools.combinations_with_replacement(l, 3))\n",
    "\n",
    "# [('a', 'a'), ('a', 'b'), ('a', 'c'), ('a', 'd'), ('b', 'b'), ('b', 'c'), ('b', 'd'), ('c', 'c'), ('c', 'd'), ('d', 'd')]\n",
    "\n",
    "print(len(h_list))\n",
    "# 10"
   ]
  },
  {
   "cell_type": "code",
   "execution_count": 18,
   "metadata": {},
   "outputs": [
    {
     "data": {
      "text/plain": [
       "True"
      ]
     },
     "execution_count": 18,
     "metadata": {},
     "output_type": "execute_result"
    }
   ],
   "source": [
    "1!=2!=3"
   ]
  },
  {
   "cell_type": "code",
   "execution_count": 6,
   "metadata": {},
   "outputs": [
    {
     "name": "stdout",
     "output_type": "stream",
     "text": [
      "0 0 0\n",
      "0 0 1\n",
      "0 0 2\n",
      "0 0 3\n",
      "0 0 4\n",
      "0 1 1\n",
      "0 1 2\n",
      "0 1 3\n",
      "0 1 4\n",
      "0 2 2\n",
      "0 2 3\n",
      "0 2 4\n",
      "0 3 3\n",
      "0 3 4\n",
      "0 4 4\n",
      "1 1 1\n",
      "1 1 2\n",
      "1 1 3\n",
      "1 1 4\n",
      "1 2 2\n",
      "1 2 3\n",
      "1 2 4\n",
      "1 3 3\n",
      "1 3 4\n",
      "1 4 4\n",
      "2 2 2\n",
      "2 2 3\n",
      "2 2 4\n",
      "2 3 3\n",
      "2 3 4\n",
      "2 4 4\n",
      "3 3 3\n",
      "3 3 4\n",
      "3 4 4\n",
      "4 4 4\n"
     ]
    }
   ],
   "source": [
    "for i in itertools.combinations_with_replacement(range(5), 3):\n",
    "    print(i[0], i[1], i[2])"
   ]
  },
  {
   "cell_type": "code",
   "execution_count": 5,
   "metadata": {},
   "outputs": [
    {
     "data": {
      "text/plain": [
       "<itertools.combinations_with_replacement at 0x7fdf03410e08>"
      ]
     },
     "execution_count": 5,
     "metadata": {},
     "output_type": "execute_result"
    }
   ],
   "source": [
    "k"
   ]
  },
  {
   "cell_type": "code",
   "execution_count": null,
   "metadata": {},
   "outputs": [],
   "source": []
  }
 ],
 "metadata": {
  "kernelspec": {
   "display_name": "Python 3",
   "language": "python",
   "name": "python3"
  },
  "language_info": {
   "codemirror_mode": {
    "name": "ipython",
    "version": 3
   },
   "file_extension": ".py",
   "mimetype": "text/x-python",
   "name": "python",
   "nbconvert_exporter": "python",
   "pygments_lexer": "ipython3",
   "version": "3.6.8"
  }
 },
 "nbformat": 4,
 "nbformat_minor": 4
}
