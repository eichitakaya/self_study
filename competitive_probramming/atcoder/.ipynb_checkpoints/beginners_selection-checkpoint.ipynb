{
 "cells": [
  {
   "cell_type": "code",
   "execution_count": 7,
   "metadata": {},
   "outputs": [
    {
     "name": "stdin",
     "output_type": "stream",
     "text": [
      " 72\n",
      " 128 256\n",
      " myonmyon\n"
     ]
    },
    {
     "name": "stdout",
     "output_type": "stream",
     "text": [
      "456 myonmyon\n"
     ]
    }
   ],
   "source": [
    "# Welcome to Atcoder\n",
    "a = int(input())\n",
    "bc = input().split()\n",
    "b = int(bc[0])\n",
    "c = int(bc[1])\n",
    "s = input()\n",
    "\n",
    "print(a+b+c, s)"
   ]
  },
  {
   "cell_type": "code",
   "execution_count": 9,
   "metadata": {},
   "outputs": [
    {
     "name": "stdin",
     "output_type": "stream",
     "text": [
      " 1 21\n"
     ]
    },
    {
     "name": "stdout",
     "output_type": "stream",
     "text": [
      "odd\n"
     ]
    }
   ],
   "source": [
    "# Product\n",
    "ab = input().split()\n",
    "ab = int(ab[0]) * int(ab[1])\n",
    "if ab % 2 == 0:\n",
    "    print(\"Even\")\n",
    "else:\n",
    "    print(\"Odd\")"
   ]
  },
  {
   "cell_type": "code",
   "execution_count": 11,
   "metadata": {},
   "outputs": [
    {
     "name": "stdin",
     "output_type": "stream",
     "text": [
      " 000\n"
     ]
    },
    {
     "name": "stdout",
     "output_type": "stream",
     "text": [
      "0\n"
     ]
    }
   ],
   "source": [
    "# Placing Marbles\n",
    "sss = input()\n",
    "print(sss.count(\"1\"))"
   ]
  },
  {
   "cell_type": "code",
   "execution_count": 21,
   "metadata": {},
   "outputs": [
    {
     "name": "stdin",
     "output_type": "stream",
     "text": [
      " 6\n",
      " 382253568 723152896 37802240 379425024 404894720 471526144\n"
     ]
    },
    {
     "name": "stdout",
     "output_type": "stream",
     "text": [
      "8\n"
     ]
    }
   ],
   "source": [
    "# Shift only\n",
    "N = int(input())\n",
    "As = input().split()\n",
    "\n",
    "cnt = 0\n",
    "\n",
    "mod = 0\n",
    "\n",
    "while mod == 0:\n",
    "    for i, A in enumerate(As):\n",
    "        mod += int(A) % 2\n",
    "        As[i] = int(A) / 2\n",
    "    if mod != 0:\n",
    "        break\n",
    "    else:\n",
    "        cnt += 1\n",
    "print(cnt)"
   ]
  },
  {
   "cell_type": "code",
   "execution_count": 26,
   "metadata": {},
   "outputs": [
    {
     "name": "stdin",
     "output_type": "stream",
     "text": [
      " 30\n",
      " 40\n",
      " 50\n",
      " 6000\n"
     ]
    },
    {
     "name": "stdout",
     "output_type": "stream",
     "text": [
      "213\n"
     ]
    }
   ],
   "source": [
    "# Coins\n",
    "A = int(input())\n",
    "B = int(input())\n",
    "C = int(input())\n",
    "X = int(input())\n",
    "\n",
    "cnt = 0\n",
    "for a in range(A+1):\n",
    "    for b in range(B+1):\n",
    "        for c in range(C+1):\n",
    "            if a * 500 + b * 100 + c * 50 == X:\n",
    "                cnt += 1\n",
    "print(cnt)"
   ]
  },
  {
   "cell_type": "code",
   "execution_count": 37,
   "metadata": {},
   "outputs": [
    {
     "name": "stdin",
     "output_type": "stream",
     "text": [
      " 100 4 16\n"
     ]
    },
    {
     "name": "stdout",
     "output_type": "stream",
     "text": [
      "4554\n"
     ]
    }
   ],
   "source": [
    "# Some Sums\n",
    "def sum_(num):\n",
    "    s = 0\n",
    "    for i in str(num):\n",
    "        s += int(i)\n",
    "    return s\n",
    "\n",
    "NAB = input().split()\n",
    "N = int(NAB[0])\n",
    "A = int(NAB[1])\n",
    "B = int(NAB[2])\n",
    "\n",
    "s = 0\n",
    "\n",
    "for i in range(N):\n",
    "    if A <= sum_(i+1) <= B:\n",
    "        s += i+1\n",
    "print(s)"
   ]
  },
  {
   "cell_type": "code",
   "execution_count": 53,
   "metadata": {},
   "outputs": [
    {
     "name": "stdin",
     "output_type": "stream",
     "text": [
      " 4\n",
      " 20 18 2 18\n"
     ]
    },
    {
     "name": "stdout",
     "output_type": "stream",
     "text": [
      "18\n"
     ]
    }
   ],
   "source": [
    "# Card Game for Two\n",
    "N = int(input())\n",
    "As = input().split()\n",
    "\n",
    "cards = []\n",
    "for i in As:\n",
    "    cards.append(int(i))\n",
    "cards.sort()\n",
    "cards.reverse()\n",
    "\n",
    "s = 0\n",
    "for i, a in enumerate(cards):\n",
    "    if i % 2 == 0:\n",
    "        s += a\n",
    "    else:\n",
    "        s -= a\n",
    "print(s)"
   ]
  },
  {
   "cell_type": "code",
   "execution_count": 60,
   "metadata": {},
   "outputs": [
    {
     "name": "stdin",
     "output_type": "stream",
     "text": [
      " 7\n",
      " 50\n",
      " 30\n",
      " 50\n",
      " 100\n",
      " 50\n",
      " 80\n",
      " 30\n"
     ]
    },
    {
     "name": "stdout",
     "output_type": "stream",
     "text": [
      "4\n"
     ]
    }
   ],
   "source": [
    "# Kagami Mochi\n",
    "N = int(input())\n",
    "\n",
    "ds = []\n",
    "for i in range(N):\n",
    "    ds.append(int(input()))\n",
    "ds.sort(reverse=True)\n",
    "\n",
    "cnt = 1\n",
    "tmp = ds[0]\n",
    "for i in range(len(ds)-1):\n",
    "    if tmp != ds[i+1]:\n",
    "        cnt += 1\n",
    "    tmp = ds[i+1]\n",
    "print(cnt)"
   ]
  },
  {
   "cell_type": "code",
   "execution_count": 76,
   "metadata": {},
   "outputs": [
    {
     "name": "stdin",
     "output_type": "stream",
     "text": [
      " 2000 20000000\n"
     ]
    },
    {
     "name": "stdout",
     "output_type": "stream",
     "text": [
      "-1 -1 -1\n"
     ]
    }
   ],
   "source": [
    "# Otoshidama\n",
    "# 3種類のお札から重複を許してN回引く場合の数から，和がYになるものを探す．\n",
    "NY = input().split()\n",
    "N = int(NY[0])\n",
    "Y = int(NY[1])\n",
    "\n",
    "for i in range(N+1):\n",
    "    for j in range(N-i+1):\n",
    "        if i*10000 + j*5000 + (N - i - j)*1000 == Y and 0 <= (N - i - j ) <= 2000:\n",
    "            print(i, j, (N-i-j))\n",
    "            exit()\n",
    "\n",
    "print(-1, -1, -1)"
   ]
  },
  {
   "cell_type": "code",
   "execution_count": null,
   "metadata": {},
   "outputs": [],
   "source": [
    "N, Y = map(int, input().split())\n",
    "for x in range(N+1):\n",
    "    for y in range(N-x+1):\n",
    "        z = N-x-y\n",
    "        if 0 <= z <= 2000 and 10000*x+5000*y+1000*z == Y:\n",
    "            print(x, y, z)\n",
    "            exit()\n",
    "print(-1, -1, -1)"
   ]
  }
 ],
 "metadata": {
  "kernelspec": {
   "display_name": "Python 3",
   "language": "python",
   "name": "python3"
  },
  "language_info": {
   "codemirror_mode": {
    "name": "ipython",
    "version": 3
   },
   "file_extension": ".py",
   "mimetype": "text/x-python",
   "name": "python",
   "nbconvert_exporter": "python",
   "pygments_lexer": "ipython3",
   "version": "3.6.8"
  }
 },
 "nbformat": 4,
 "nbformat_minor": 4
}
