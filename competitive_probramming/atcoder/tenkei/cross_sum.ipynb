{
 "cells": [
  {
   "cell_type": "code",
   "execution_count": null,
   "metadata": {},
   "outputs": [],
   "source": [
    "import numpy as np\n",
    "\n",
    "H, W = map(int, input().split())\n",
    "\n",
    "M_in = np.zeros((H, W))\n",
    "M_out = np.zeros((H, W))\n",
    "\n",
    "row_sum = np.zeros(H)\n",
    "col_sum = np.zeros(W)\n",
    "\n",
    "for i in range(H):\n",
    "    l = np.array(list(map(int, input().split())))\n",
    "    row_sum[i] = l.sum()\n",
    "    M_in[i] = l\n",
    "    col_sum += l\n",
    "\n",
    "for i in range(H):\n",
    "    for j in range(W):\n",
    "        M_out[i][j] = row_sum[i] + col_sum[j] - M_in[i][j]\n",
    "        \n",
    "\n",
    "for i in range(H):\n",
    "    M_out = np.array(M_out, dtype=np.int32)\n",
    "    print(\" \".join(map(str, list(M_out[i]))))"
   ]
  },
  {
   "cell_type": "code",
   "execution_count": 55,
   "metadata": {},
   "outputs": [
    {
     "name": "stdout",
     "output_type": "stream",
     "text": [
      "565.0 93.0 31.0 115\n",
      "565.0 105.0 41.0 117\n",
      "565.0 92.0 59.0 86\n",
      "565.0 109.0 26.0 -120\n",
      "565.0 80.0 53.0 80\n",
      "565.0 153.0 58.0 -108\n",
      "565.0 99.0 97.0 55\n",
      "565.0 181.0 93.0 -115\n",
      "565.0 64.0 23.0 94\n",
      "565.0 181.0 84.0 -106\n",
      "592.0 93.0 62.0 111\n",
      "592.0 105.0 64.0 121\n",
      "592.0 92.0 33.0 -117\n",
      "592.0 109.0 83.0 106\n",
      "592.0 80.0 27.0 -123\n",
      "592.0 153.0 95.0 -118\n",
      "592.0 99.0 2.0 -79\n",
      "592.0 181.0 88.0 -83\n",
      "592.0 64.0 41.0 103\n",
      "592.0 181.0 97.0 -92\n"
     ]
    }
   ],
   "source": [
    "for i in range(H):\n",
    "    for j in range(W):\n",
    "        M_out[i][j] = (row_sum[i] + col_sum[j] - M_in[i][j])\n",
    "        print(row_sum[i], col_sum[j], M_in[i][j], M_out[i][j])"
   ]
  },
  {
   "cell_type": "code",
   "execution_count": 58,
   "metadata": {},
   "outputs": [],
   "source": [
    "M_out[0][0] = 512"
   ]
  },
  {
   "cell_type": "code",
   "execution_count": 59,
   "metadata": {},
   "outputs": [
    {
     "data": {
      "text/plain": [
       "array([[   0,  117,   86, -120,   80, -108,   55, -115,   94, -106],\n",
       "       [ 111,  121, -117,  106, -123, -118,  -79,  -83,  103,  -92]],\n",
       "      dtype=int8)"
      ]
     },
     "execution_count": 59,
     "metadata": {},
     "output_type": "execute_result"
    }
   ],
   "source": [
    "M_out"
   ]
  },
  {
   "cell_type": "code",
   "execution_count": 23,
   "metadata": {},
   "outputs": [
    {
     "data": {
      "text/plain": [
       "array([3., 3., 3.])"
      ]
     },
     "execution_count": 23,
     "metadata": {},
     "output_type": "execute_result"
    }
   ],
   "source": [
    "col_sum_list"
   ]
  },
  {
   "cell_type": "code",
   "execution_count": 28,
   "metadata": {},
   "outputs": [
    {
     "data": {
      "text/plain": [
       "array([0., 0., 0., 0.])"
      ]
     },
     "execution_count": 28,
     "metadata": {},
     "output_type": "execute_result"
    }
   ],
   "source": [
    "a[0][:]"
   ]
  },
  {
   "cell_type": "code",
   "execution_count": 74,
   "metadata": {},
   "outputs": [
    {
     "name": "stdin",
     "output_type": "stream",
     "text": [
      " 3 3\n",
      " 1 1 1\n",
      " 1 1 1\n",
      " 1 1 1\n"
     ]
    },
    {
     "name": "stdout",
     "output_type": "stream",
     "text": [
      "5 5 5\n",
      "5 5 5\n",
      "5 5 5\n"
     ]
    }
   ],
   "source": [
    "H, W = map(int, input().split())\n",
    "A = [[int(d) for d in input().split()] for _ in range(H)]\n",
    "# A = []\n",
    "# for i in range(H):\n",
    "#     A.append([int(d) for d in input().split()])\n",
    "rows = [sum(a) for a in A]\n",
    "cols = [sum(z) for z in zip(*A)]\n",
    "\n",
    "\n",
    "for y, row in enumerate(A):\n",
    "    print(' '.join(str(rows[y] + cols[x] - A[y][x]) for x, v in enumerate(row)))"
   ]
  }
 ],
 "metadata": {
  "kernelspec": {
   "display_name": "Python 3",
   "language": "python",
   "name": "python3"
  },
  "language_info": {
   "codemirror_mode": {
    "name": "ipython",
    "version": 3
   },
   "file_extension": ".py",
   "mimetype": "text/x-python",
   "name": "python",
   "nbconvert_exporter": "python",
   "pygments_lexer": "ipython3",
   "version": "3.7.5"
  }
 },
 "nbformat": 4,
 "nbformat_minor": 4
}
