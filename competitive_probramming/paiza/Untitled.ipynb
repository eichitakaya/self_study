{
 "cells": [
  {
   "cell_type": "code",
   "execution_count": 1,
   "metadata": {},
   "outputs": [
    {
     "name": "stdin",
     "output_type": "stream",
     "text": [
      " 5 3\n"
     ]
    }
   ],
   "source": [
    "MN = input().split()\n",
    "M = int(MN[0])\n",
    "N = int(MN[1])"
   ]
  },
  {
   "cell_type": "code",
   "execution_count": 11,
   "metadata": {},
   "outputs": [],
   "source": [
    "def generate_add(M):\n",
    "    sahen = 0\n",
    "    uhen = 99\n",
    "    for i in range(M):\n",
    "        uhen = sahen + i\n",
    "        print(str(sahen) + \" + \" + str(uhen) + \" =\")\n",
    "\n",
    "def generate_diff(N):\n",
    "    sahen = 99\n",
    "    for i in range(N):\n",
    "        uhen = sahen + 1\n",
    "        print(str(sahen) + \" + \" + str(uhen) + \" =\")\n",
    "        sahen += 1"
   ]
  },
  {
   "cell_type": "code",
   "execution_count": 13,
   "metadata": {},
   "outputs": [
    {
     "name": "stdout",
     "output_type": "stream",
     "text": [
      "0 + 0 =\n",
      "0 + 1 =\n",
      "0 + 2 =\n",
      "0 + 3 =\n",
      "0 + 4 =\n",
      "0 + 5 =\n",
      "0 + 6 =\n",
      "0 + 7 =\n",
      "0 + 8 =\n",
      "0 + 9 =\n",
      "0 + 10 =\n",
      "0 + 11 =\n",
      "0 + 12 =\n",
      "0 + 13 =\n",
      "0 + 14 =\n",
      "0 + 15 =\n",
      "0 + 16 =\n",
      "0 + 17 =\n",
      "0 + 18 =\n",
      "0 + 19 =\n",
      "0 + 20 =\n",
      "0 + 21 =\n",
      "0 + 22 =\n",
      "0 + 23 =\n",
      "0 + 24 =\n",
      "0 + 25 =\n",
      "0 + 26 =\n",
      "0 + 27 =\n",
      "0 + 28 =\n",
      "0 + 29 =\n",
      "0 + 30 =\n",
      "0 + 31 =\n",
      "0 + 32 =\n",
      "0 + 33 =\n",
      "0 + 34 =\n",
      "0 + 35 =\n",
      "0 + 36 =\n",
      "0 + 37 =\n",
      "0 + 38 =\n",
      "0 + 39 =\n",
      "0 + 40 =\n",
      "0 + 41 =\n",
      "0 + 42 =\n",
      "0 + 43 =\n",
      "0 + 44 =\n",
      "0 + 45 =\n",
      "0 + 46 =\n",
      "0 + 47 =\n",
      "0 + 48 =\n",
      "0 + 49 =\n"
     ]
    }
   ],
   "source": [
    "generate_add(50)"
   ]
  },
  {
   "cell_type": "code",
   "execution_count": 6,
   "metadata": {},
   "outputs": [
    {
     "data": {
      "text/plain": [
       "97"
      ]
     },
     "execution_count": 6,
     "metadata": {},
     "output_type": "execute_result"
    }
   ],
   "source": [
    "a[97]"
   ]
  },
  {
   "cell_type": "code",
   "execution_count": null,
   "metadata": {},
   "outputs": [],
   "source": []
  }
 ],
 "metadata": {
  "kernelspec": {
   "display_name": "Python 3",
   "language": "python",
   "name": "python3"
  },
  "language_info": {
   "codemirror_mode": {
    "name": "ipython",
    "version": 3
   },
   "file_extension": ".py",
   "mimetype": "text/x-python",
   "name": "python",
   "nbconvert_exporter": "python",
   "pygments_lexer": "ipython3",
   "version": "3.7.5"
  }
 },
 "nbformat": 4,
 "nbformat_minor": 4
}
