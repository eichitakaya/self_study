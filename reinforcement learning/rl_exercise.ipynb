{
 "cells": [
  {
   "cell_type": "markdown",
   "metadata": {},
   "source": [
    "# 強化学習の学習\n",
    "強化学習を自習するためのノートブック\n",
    "\n",
    "## 環境の定義\n",
    "まず，強化学習エージェントを動かすための環境を定義する．\n",
    "\n",
    "ここでは，強化学習のテキスト等でよく扱われる三目並べ（tic-tac-toe）と多腕バンディット（multi-armed bandit）問題を環境として用いる．\n",
    "\n",
    "### 必要なパッケージのインポート"
   ]
  },
  {
   "cell_type": "code",
   "execution_count": 1,
   "metadata": {
    "collapsed": true
   },
   "outputs": [],
   "source": [
    "import gym\n",
    "import numpy as np\n",
    "import matplotlib.pyplot as plt\n",
    "%matplotlib inline"
   ]
  },
  {
   "cell_type": "markdown",
   "metadata": {},
   "source": [
    "### env1: tic-tac-toe"
   ]
  },
  {
   "cell_type": "code",
   "execution_count": 56,
   "metadata": {
    "collapsed": false
   },
   "outputs": [
    {
     "name": "stderr",
     "output_type": "stream",
     "text": [
      "[2017-09-14 16:21:35,424] Making new env: tic_tac_toe-v0\n"
     ]
    },
    {
     "data": {
      "text/plain": [
       "({'board': [0, 1, -1, 0, 1, 0, 0, 1, -1], 'on_move': -1}, 1, True, {})"
      ]
     },
     "execution_count": 56,
     "metadata": {},
     "output_type": "execute_result"
    }
   ],
   "source": [
    "import gym_tic_tac_toe\n",
    "env1 = gym.make(\"tic_tac_toe-v0\")\n",
    "\n",
    "observation = env1.reset()\n",
    "action = env1.action_space.sample()\n",
    "\n",
    "env1.action_space\n",
    "env1.step([1,1])\n",
    "env1.step([-1,2])\n",
    "env1.step([1,4])\n",
    "env1.step([-1,8])\n",
    "env1.step([1,7])"
   ]
  },
  {
   "cell_type": "markdown",
   "metadata": {},
   "source": [
    "### env2: multi-armed bandit"
   ]
  },
  {
   "cell_type": "code",
   "execution_count": 130,
   "metadata": {
    "collapsed": false
   },
   "outputs": [
    {
     "name": "stderr",
     "output_type": "stream",
     "text": [
      "[2017-09-14 17:50:08,103] Making new env: BanditTenArmedRandomFixed-v0\n",
      "/Users/eichi/.pyenv/versions/anaconda3-4.1.1/lib/python3.5/site-packages/numpy/core/numeric.py:301: FutureWarning: in the future, full(10, 1) will return an array of dtype('int64')\n",
      "  format(shape, fill_value, array(fill_value).dtype), FutureWarning)\n"
     ]
    },
    {
     "data": {
      "text/plain": [
       "(0, 0, True, {})"
      ]
     },
     "execution_count": 130,
     "metadata": {},
     "output_type": "execute_result"
    }
   ],
   "source": [
    "import gym_bandits\n",
    "env2 = gym.make(\"BanditTenArmedRandomFixed-v0\")\n",
    "\n",
    "observation = env2.reset()\n",
    "action = env2.action_space.sample()\n",
    "\n",
    "env2.step(8)"
   ]
  },
  {
   "cell_type": "markdown",
   "metadata": {},
   "source": [
    "### env3: CartPole"
   ]
  },
  {
   "cell_type": "code",
   "execution_count": 58,
   "metadata": {
    "collapsed": false
   },
   "outputs": [
    {
     "name": "stderr",
     "output_type": "stream",
     "text": [
      "[2017-09-14 16:33:14,154] Making new env: CartPole-v0\n"
     ]
    },
    {
     "data": {
      "text/plain": [
       "(array([-0.0229216 ,  0.22326582,  0.02004362, -0.32368031]), 1.0, False, {})"
      ]
     },
     "execution_count": 58,
     "metadata": {},
     "output_type": "execute_result"
    }
   ],
   "source": [
    "env3 = gym.make(\"CartPole-v0\")\n",
    "\n",
    "observation = env3.reset()\n",
    "action = env3.action_space.sample()\n",
    "\n",
    "env3.step(action)"
   ]
  },
  {
   "cell_type": "markdown",
   "metadata": {},
   "source": [
    "## greedyアルゴリズムの実装\n",
    "\n",
    "ここでは，multi-armed banditにて実験を行う．\n",
    "\n",
    "> まだ$ n $回選んだことがない腕がある場合，その腕を選ぶ\n",
    "\n",
    "> それ以外の場合，すべての腕に対して，これまでの報酬の平均を計算する\n",
    "\n",
    "\n",
    "> \\begin{equation*}\n",
    " \\mu_i = \\frac{これまで腕 i から得られた報酬の和}{これまで腕 i をプレイした回数}\n",
    " \\end{equation*}\n",
    "\n",
    "> $\\mu_i$が最大の腕を選ぶ"
   ]
  },
  {
   "cell_type": "code",
   "execution_count": 151,
   "metadata": {
    "collapsed": true
   },
   "outputs": [],
   "source": [
    "class GreedyAgent:\n",
    "    def __init__(self, n_arm, n_step):\n",
    "        self.n_arm = n_arm\n",
    "        self.n_step = n_step\n",
    "        self.reward = 0\n",
    "        self.average_reward = []\n",
    "        self.n_played = 0\n",
    "        self.reward_arm_list = [0, 0, 0, 0, 0, 0, 0, 0, 0, 0]\n",
    "    \n",
    "    def run(self):\n",
    "        env2.reset()\n",
    "        #  各腕を n 回ずつ選択し，報酬を記録\n",
    "        for i in range(self.n_arm):\n",
    "            for arm in range(10):\n",
    "                observation, reward, done, info = env2.step(arm)\n",
    "                self.reward_arm_list[arm] += reward\n",
    "                self.reward += reward\n",
    "                self.n_played += 1\n",
    "                self.average_reward.append(self.reward / self.n_played)\n",
    "        # μの計算\n",
    "        for arm in range(10):\n",
    "            self.reward_arm_list[arm] /= self.n_arm\n",
    "        mu_list = self.reward_arm_list\n",
    "        \n",
    "        # μに基づいた選択\n",
    "        for i in range(self.n_step - (self.n_arm * 10)):\n",
    "            action = mu_list.index(max(mu_list))\n",
    "            observation, reward, done, info = env2.step(action)\n",
    "            self.reward += reward\n",
    "            self.n_played += 1\n",
    "            self.average_reward.append(self.reward / self.n_played)\n",
    "            \n",
    "        return self.average_reward"
   ]
  },
  {
   "cell_type": "code",
   "execution_count": 194,
   "metadata": {
    "collapsed": false
   },
   "outputs": [],
   "source": [
    "agent = GreedyAgent(5, 10000)\n",
    "reward_list = agent.run()"
   ]
  },
  {
   "cell_type": "code",
   "execution_count": 195,
   "metadata": {
    "collapsed": false
   },
   "outputs": [
    {
     "data": {
      "text/plain": [
       "[<matplotlib.lines.Line2D at 0x117c08048>]"
      ]
     },
     "execution_count": 195,
     "metadata": {},
     "output_type": "execute_result"
    },
    {
     "data": {
      "image/png": "[encoded data removed]",
      "text/plain": [
       "<matplotlib.figure.Figure at 0x117c49588>"
      ]
     },
     "metadata": {},
     "output_type": "display_data"
    }
   ],
   "source": [
    "plt.plot(reward_list)"
   ]
  },
  {
   "cell_type": "markdown",
   "metadata": {},
   "source": [
    "#### "
   ]
  },
  {
   "cell_type": "code",
   "execution_count": null,
   "metadata": {
    "collapsed": true
   },
   "outputs": [],
   "source": []
  }
 ],
 "metadata": {
  "anaconda-cloud": {},
  "kernelspec": {
   "display_name": "Python [Root]",
   "language": "python",
   "name": "Python [Root]"
  },
  "language_info": {
   "codemirror_mode": {
    "name": "ipython",
    "version": 3
   },
   "file_extension": ".py",
   "mimetype": "text/x-python",
   "name": "python",
   "nbconvert_exporter": "python",
   "pygments_lexer": "ipython3",
   "version": "3.5.2"
  }
 },
 "nbformat": 4,
 "nbformat_minor": 0
}
